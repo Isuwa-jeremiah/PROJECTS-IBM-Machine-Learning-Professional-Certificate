{
 "cells": [
  {
   "cell_type": "markdown",
   "id": "a0d58e81",
   "metadata": {},
   "source": [
    "# Final project on Supervised Machine Learning: Classification\n",
    "\n",
    "## Analysis the Breast Cancer Dataset"
   ]
  },
  {
   "cell_type": "markdown",
   "id": "b3654ce4",
   "metadata": {},
   "source": [
    "## Introdcution and Dataset Description\n",
    "### Source: \n",
    "The breast cancer dataset to be used in this analysis was obtained from the University Medical Centre, Institute of Oncology, Ljubljana, Yugoslavia. Downloaded from the University of California (UCI) Machine Learning Repository. Link- https://archive.ics.uci.edu/ml/datasets/breast+cancer\n",
    "\n",
    "### Description: \n",
    "The dataset includes 201 instances of benign class (non-cancerous) and 85 instances of the malignant class (Cancerous).  The instances are described by 9 attributes, some of which are linear and some are nominal. They include:\n"
   ]
  },
  {
   "cell_type": "code",
   "execution_count": 1,
   "id": "46a1c8ea",
   "metadata": {},
   "outputs": [],
   "source": [
    "#First we import the basic libraries and import others as we progreee\n",
    "import pandas as pd\n",
    "import numpy as np\n",
    "import matplotlib.pyplot as plt\n",
    "%matplotlib inline\n",
    "\n",
    "from sklearn.preprocessing import LabelEncoder\n",
    "from sklearn.model_selection import StratifiedShuffleSplit, train_test_split\n",
    "from sklearn.feature_selection import SelectKBest, chi2\n",
    "from sklearn.linear_model import LogisticRegression\n",
    "from sklearn import metrics\n",
    "from sklearn.model_selection import GridSearchCV\n",
    "from sklearn.metrics import classification_report, accuracy_score, precision_score, recall_score\n",
    "from sklearn.metrics import f1_score, roc_auc_score\n",
    "from sklearn.preprocessing import StandardScaler\n",
    "from sklearn.linear_model import LogisticRegressionCV\n",
    "from imblearn.over_sampling import RandomOverSampler, SMOTE\n",
    "from imblearn.under_sampling import RandomUnderSampler\n",
    "from sklearn.tree import DecisionTreeClassifier\n",
    "from sklearn.ensemble import RandomForestClassifier, StackingClassifier\n",
    "from sklearn.svm import SVC\n",
    "from sklearn.neighbors import KNeighborsClassifier\n",
    "from sklearn.inspection import permutation_importance"
   ]
  },
  {
   "cell_type": "code",
   "execution_count": 2,
   "id": "b4394881",
   "metadata": {},
   "outputs": [],
   "source": [
    "#Stop all warnings\n",
    "def warn(*args, **kwargs):\n",
    "    pass\n",
    "import warnings\n",
    "\n",
    "warnings.warn = warn\n",
    "rs =42"
   ]
  },
  {
   "cell_type": "code",
   "execution_count": 3,
   "id": "1096040d",
   "metadata": {},
   "outputs": [],
   "source": [
    "#Data import\n",
    "source  = 'Datasets/breast_cancer.DATA'\n",
    "\n",
    "#we include column names in our dataset\n",
    "\n",
    "columns = ['Class','age','menopause','tumor_size','inv_nodes','node_caps','deg_malig','breast','breast_quad','irradiat']\n",
    "b_df = pd.read_csv(source, header=None, names = columns)"
   ]
  },
  {
   "cell_type": "code",
   "execution_count": 4,
   "id": "328e1dc3",
   "metadata": {},
   "outputs": [
    {
     "data": {
      "text/html": [
       "<div>\n",
       "<style scoped>\n",
       "    .dataframe tbody tr th:only-of-type {\n",
       "        vertical-align: middle;\n",
       "    }\n",
       "\n",
       "    .dataframe tbody tr th {\n",
       "        vertical-align: top;\n",
       "    }\n",
       "\n",
       "    .dataframe thead th {\n",
       "        text-align: right;\n",
       "    }\n",
       "</style>\n",
       "<table border=\"1\" class=\"dataframe\">\n",
       "  <thead>\n",
       "    <tr style=\"text-align: right;\">\n",
       "      <th></th>\n",
       "      <th>Class</th>\n",
       "      <th>age</th>\n",
       "      <th>menopause</th>\n",
       "      <th>tumor_size</th>\n",
       "      <th>inv_nodes</th>\n",
       "      <th>node_caps</th>\n",
       "      <th>deg_malig</th>\n",
       "      <th>breast</th>\n",
       "      <th>breast_quad</th>\n",
       "      <th>irradiat</th>\n",
       "    </tr>\n",
       "  </thead>\n",
       "  <tbody>\n",
       "    <tr>\n",
       "      <th>0</th>\n",
       "      <td>no-recurrence-events</td>\n",
       "      <td>30-39</td>\n",
       "      <td>premeno</td>\n",
       "      <td>30-34</td>\n",
       "      <td>0-2</td>\n",
       "      <td>no</td>\n",
       "      <td>3</td>\n",
       "      <td>left</td>\n",
       "      <td>left_low</td>\n",
       "      <td>no</td>\n",
       "    </tr>\n",
       "    <tr>\n",
       "      <th>1</th>\n",
       "      <td>no-recurrence-events</td>\n",
       "      <td>40-49</td>\n",
       "      <td>premeno</td>\n",
       "      <td>20-24</td>\n",
       "      <td>0-2</td>\n",
       "      <td>no</td>\n",
       "      <td>2</td>\n",
       "      <td>right</td>\n",
       "      <td>right_up</td>\n",
       "      <td>no</td>\n",
       "    </tr>\n",
       "    <tr>\n",
       "      <th>2</th>\n",
       "      <td>no-recurrence-events</td>\n",
       "      <td>40-49</td>\n",
       "      <td>premeno</td>\n",
       "      <td>20-24</td>\n",
       "      <td>0-2</td>\n",
       "      <td>no</td>\n",
       "      <td>2</td>\n",
       "      <td>left</td>\n",
       "      <td>left_low</td>\n",
       "      <td>no</td>\n",
       "    </tr>\n",
       "    <tr>\n",
       "      <th>3</th>\n",
       "      <td>no-recurrence-events</td>\n",
       "      <td>60-69</td>\n",
       "      <td>ge40</td>\n",
       "      <td>15-19</td>\n",
       "      <td>0-2</td>\n",
       "      <td>no</td>\n",
       "      <td>2</td>\n",
       "      <td>right</td>\n",
       "      <td>left_up</td>\n",
       "      <td>no</td>\n",
       "    </tr>\n",
       "    <tr>\n",
       "      <th>4</th>\n",
       "      <td>no-recurrence-events</td>\n",
       "      <td>40-49</td>\n",
       "      <td>premeno</td>\n",
       "      <td>0-4</td>\n",
       "      <td>0-2</td>\n",
       "      <td>no</td>\n",
       "      <td>2</td>\n",
       "      <td>right</td>\n",
       "      <td>right_low</td>\n",
       "      <td>no</td>\n",
       "    </tr>\n",
       "  </tbody>\n",
       "</table>\n",
       "</div>"
      ],
      "text/plain": [
       "                  Class    age menopause tumor_size inv_nodes node_caps  \\\n",
       "0  no-recurrence-events  30-39   premeno      30-34       0-2        no   \n",
       "1  no-recurrence-events  40-49   premeno      20-24       0-2        no   \n",
       "2  no-recurrence-events  40-49   premeno      20-24       0-2        no   \n",
       "3  no-recurrence-events  60-69      ge40      15-19       0-2        no   \n",
       "4  no-recurrence-events  40-49   premeno        0-4       0-2        no   \n",
       "\n",
       "   deg_malig breast breast_quad irradiat  \n",
       "0          3   left    left_low       no  \n",
       "1          2  right    right_up       no  \n",
       "2          2   left    left_low       no  \n",
       "3          2  right     left_up       no  \n",
       "4          2  right   right_low       no  "
      ]
     },
     "execution_count": 4,
     "metadata": {},
     "output_type": "execute_result"
    }
   ],
   "source": [
    "b_df.head(5)"
   ]
  },
  {
   "cell_type": "code",
   "execution_count": 5,
   "id": "0f63915b",
   "metadata": {},
   "outputs": [
    {
     "data": {
      "text/plain": [
       "(286, 10)"
      ]
     },
     "execution_count": 5,
     "metadata": {},
     "output_type": "execute_result"
    }
   ],
   "source": [
    "b_df.shape\n",
    "#the dataset have 286 instances with 9 features and a target variable"
   ]
  },
  {
   "cell_type": "code",
   "execution_count": 6,
   "id": "3cf66850",
   "metadata": {},
   "outputs": [
    {
     "data": {
      "text/plain": [
       "array(['no-recurrence-events', 'recurrence-events'], dtype=object)"
      ]
     },
     "execution_count": 6,
     "metadata": {},
     "output_type": "execute_result"
    }
   ],
   "source": [
    "b_df.Class.unique()\n",
    "#'no-recurrence-events' stands for benign while 'recurrence-events' stands for malignant"
   ]
  },
  {
   "cell_type": "code",
   "execution_count": 7,
   "id": "c93f651c",
   "metadata": {},
   "outputs": [
    {
     "data": {
      "text/plain": [
       "<AxesSubplot:>"
      ]
     },
     "execution_count": 7,
     "metadata": {},
     "output_type": "execute_result"
    },
    {
     "data": {
      "image/png": "[encoded data removed]",
      "text/plain": [
       "<Figure size 500x300 with 1 Axes>"
      ]
     },
     "metadata": {},
     "output_type": "display_data"
    }
   ],
   "source": [
    "b_df.Class.value_counts().plot(kind = 'bar', color = ['red', 'blue'], figsize=(5,3))\n",
    "#We can see that the datasets is infact imbalanced"
   ]
  },
  {
   "cell_type": "code",
   "execution_count": 107,
   "id": "6103604c",
   "metadata": {},
   "outputs": [
    {
     "data": {
      "text/plain": [
       "0    0.707581\n",
       "1    0.292419\n",
       "Name: Class, dtype: float64"
      ]
     },
     "execution_count": 107,
     "metadata": {},
     "output_type": "execute_result"
    }
   ],
   "source": [
    "b_df.Class.value_counts(normalize = True)"
   ]
  },
  {
   "cell_type": "code",
   "execution_count": 8,
   "id": "4add0e3b",
   "metadata": {},
   "outputs": [
    {
     "data": {
      "text/plain": [
       "Class          object\n",
       "age            object\n",
       "menopause      object\n",
       "tumor_size     object\n",
       "inv_nodes      object\n",
       "node_caps      object\n",
       "deg_malig       int64\n",
       "breast         object\n",
       "breast_quad    object\n",
       "irradiat       object\n",
       "dtype: object"
      ]
     },
     "execution_count": 8,
     "metadata": {},
     "output_type": "execute_result"
    }
   ],
   "source": [
    "b_df.dtypes\n",
    "#all the attributes are of type objects excpet one ie.deg-malig"
   ]
  },
  {
   "cell_type": "markdown",
   "id": "6e660f24",
   "metadata": {},
   "source": [
    "We need to find missing values"
   ]
  },
  {
   "cell_type": "code",
   "execution_count": 9,
   "id": "ceed768c",
   "metadata": {},
   "outputs": [],
   "source": [
    "#First we search for '?'\n",
    "#b_df.columns.tolist()"
   ]
  },
  {
   "cell_type": "code",
   "execution_count": 10,
   "id": "464c960b",
   "metadata": {},
   "outputs": [],
   "source": [
    "def cate(b_df):\n",
    "    result = {}\n",
    "    \n",
    "    result['age'] = b_df.age.unique()\n",
    "    result['menopause'] = b_df.menopause.unique()\n",
    "    result['tumor_size'] = b_df.tumor_size.unique()\n",
    "    result['inv_nodes'] = b_df.inv_nodes.unique()\n",
    "    result['node_caps'] = b_df.node_caps.unique()\n",
    "    result['deg_malig'] = b_df.deg_malig.unique()\n",
    "    result['breast'] = b_df.breast.unique()\n",
    "    result['breast_quad'] = b_df.breast_quad.unique()\n",
    "    result['irradiat'] = b_df.irradiat.unique()\n",
    "    \n",
    "    return result"
   ]
  },
  {
   "cell_type": "code",
   "execution_count": 11,
   "id": "d56e46fd",
   "metadata": {},
   "outputs": [
    {
     "data": {
      "text/plain": [
       "{'age': array(['30-39', '40-49', '60-69', '50-59', '70-79', '20-29'], dtype=object),\n",
       " 'menopause': array(['premeno', 'ge40', 'lt40'], dtype=object),\n",
       " 'tumor_size': array(['30-34', '20-24', '15-19', '0-4', '25-29', '50-54', '10-14',\n",
       "        '40-44', '35-39', '5-9', '45-49'], dtype=object),\n",
       " 'inv_nodes': array(['0-2', '6-8', '9-11', '3-5', '15-17', '12-14', '24-26'],\n",
       "       dtype=object),\n",
       " 'node_caps': array(['no', 'yes', '?'], dtype=object),\n",
       " 'deg_malig': array([3, 2, 1], dtype=int64),\n",
       " 'breast': array(['left', 'right'], dtype=object),\n",
       " 'breast_quad': array(['left_low', 'right_up', 'left_up', 'right_low', 'central', '?'],\n",
       "       dtype=object),\n",
       " 'irradiat': array(['no', 'yes'], dtype=object)}"
      ]
     },
     "execution_count": 11,
     "metadata": {},
     "output_type": "execute_result"
    }
   ],
   "source": [
    "cate(b_df)"
   ]
  },
  {
   "cell_type": "code",
   "execution_count": 12,
   "id": "e8286a2a",
   "metadata": {},
   "outputs": [
    {
     "data": {
      "text/plain": [
       "[145, 163, 164, 183, 184, 233, 263, 264]"
      ]
     },
     "execution_count": 12,
     "metadata": {},
     "output_type": "execute_result"
    }
   ],
   "source": [
    "missing_values_node_caps = b_df[b_df['node_caps'].isin(['?'])].index.tolist()\n",
    "missing_values_node_caps"
   ]
  },
  {
   "cell_type": "code",
   "execution_count": 13,
   "id": "8b3162a3",
   "metadata": {},
   "outputs": [
    {
     "data": {
      "text/plain": [
       "[206]"
      ]
     },
     "execution_count": 13,
     "metadata": {},
     "output_type": "execute_result"
    }
   ],
   "source": [
    "missing_values_breast_quad = b_df[b_df['breast_quad'].isin(['?'])].index.tolist()\n",
    "missing_values_breast_quad"
   ]
  },
  {
   "cell_type": "code",
   "execution_count": 14,
   "id": "ce0887a3",
   "metadata": {},
   "outputs": [
    {
     "name": "stdout",
     "output_type": "stream",
     "text": [
      "Combined indices of missing values: [145, 163, 164, 183, 184, 233, 263, 264, 206]\n"
     ]
    }
   ],
   "source": [
    "missing_index = missing_values_node_caps + missing_values_breast_quad\n",
    "print(f\"Combined indices of missing values: {missing_index}\")"
   ]
  },
  {
   "cell_type": "code",
   "execution_count": 15,
   "id": "6c87fd49",
   "metadata": {},
   "outputs": [],
   "source": [
    "b_df = b_df.drop(missing_index)"
   ]
  },
  {
   "cell_type": "code",
   "execution_count": 16,
   "id": "a6684d0d",
   "metadata": {},
   "outputs": [
    {
     "data": {
      "text/plain": [
       "{'age': array(['30-39', '40-49', '60-69', '50-59', '70-79', '20-29'], dtype=object),\n",
       " 'menopause': array(['premeno', 'ge40', 'lt40'], dtype=object),\n",
       " 'tumor_size': array(['30-34', '20-24', '15-19', '0-4', '25-29', '50-54', '10-14',\n",
       "        '40-44', '35-39', '5-9', '45-49'], dtype=object),\n",
       " 'inv_nodes': array(['0-2', '6-8', '9-11', '3-5', '15-17', '12-14', '24-26'],\n",
       "       dtype=object),\n",
       " 'node_caps': array(['no', 'yes'], dtype=object),\n",
       " 'deg_malig': array([3, 2, 1], dtype=int64),\n",
       " 'breast': array(['left', 'right'], dtype=object),\n",
       " 'breast_quad': array(['left_low', 'right_up', 'left_up', 'right_low', 'central'],\n",
       "       dtype=object),\n",
       " 'irradiat': array(['no', 'yes'], dtype=object)}"
      ]
     },
     "execution_count": 16,
     "metadata": {},
     "output_type": "execute_result"
    }
   ],
   "source": [
    "cate(b_df)"
   ]
  },
  {
   "cell_type": "code",
   "execution_count": 17,
   "id": "cfe731bf",
   "metadata": {},
   "outputs": [
    {
     "data": {
      "text/plain": [
       "Class          0\n",
       "age            0\n",
       "menopause      0\n",
       "tumor_size     0\n",
       "inv_nodes      0\n",
       "node_caps      0\n",
       "deg_malig      0\n",
       "breast         0\n",
       "breast_quad    0\n",
       "irradiat       0\n",
       "dtype: int64"
      ]
     },
     "execution_count": 17,
     "metadata": {},
     "output_type": "execute_result"
    }
   ],
   "source": [
    "#then we search for NaN\n",
    "b_df.isna().sum() #shows that there are no NaN present in the dataset"
   ]
  },
  {
   "cell_type": "code",
   "execution_count": 18,
   "id": "e7bcfa23",
   "metadata": {},
   "outputs": [],
   "source": [
    "#Now we perform label encoder and onehotencoder on the categorical variables \n",
    "label_encod = LabelEncoder()\n",
    "#All the variables infact needs encoding of different types\n",
    "b_df['age'] = label_encod.fit_transform(b_df['age'])\n",
    "b_df['tumor_size'] = label_encod.fit_transform(b_df['tumor_size'])\n",
    "b_df['menopause'] = label_encod.fit_transform(b_df['menopause'])\n",
    "b_df['inv_nodes'] = label_encod.fit_transform(b_df['inv_nodes'])\n",
    "b_df['node_caps'] = label_encod.fit_transform(b_df['node_caps'])\n",
    "b_df['breast'] = label_encod.fit_transform(b_df['breast'])\n",
    "b_df['breast_quad'] = label_encod.fit_transform(b_df['breast_quad'])\n",
    "b_df['irradiat'] = label_encod.fit_transform(b_df['irradiat'])\n",
    "#Finally the class\n",
    "b_df['Class'] = label_encod.fit_transform(b_df['Class'])\n"
   ]
  },
  {
   "cell_type": "code",
   "execution_count": 19,
   "id": "600a7b9a",
   "metadata": {},
   "outputs": [
    {
     "data": {
      "text/html": [
       "<div>\n",
       "<style scoped>\n",
       "    .dataframe tbody tr th:only-of-type {\n",
       "        vertical-align: middle;\n",
       "    }\n",
       "\n",
       "    .dataframe tbody tr th {\n",
       "        vertical-align: top;\n",
       "    }\n",
       "\n",
       "    .dataframe thead th {\n",
       "        text-align: right;\n",
       "    }\n",
       "</style>\n",
       "<table border=\"1\" class=\"dataframe\">\n",
       "  <thead>\n",
       "    <tr style=\"text-align: right;\">\n",
       "      <th></th>\n",
       "      <th>Class</th>\n",
       "      <th>age</th>\n",
       "      <th>menopause</th>\n",
       "      <th>tumor_size</th>\n",
       "      <th>inv_nodes</th>\n",
       "      <th>node_caps</th>\n",
       "      <th>deg_malig</th>\n",
       "      <th>breast</th>\n",
       "      <th>breast_quad</th>\n",
       "      <th>irradiat</th>\n",
       "    </tr>\n",
       "  </thead>\n",
       "  <tbody>\n",
       "    <tr>\n",
       "      <th>0</th>\n",
       "      <td>0</td>\n",
       "      <td>1</td>\n",
       "      <td>2</td>\n",
       "      <td>5</td>\n",
       "      <td>0</td>\n",
       "      <td>0</td>\n",
       "      <td>3</td>\n",
       "      <td>0</td>\n",
       "      <td>1</td>\n",
       "      <td>0</td>\n",
       "    </tr>\n",
       "    <tr>\n",
       "      <th>1</th>\n",
       "      <td>0</td>\n",
       "      <td>2</td>\n",
       "      <td>2</td>\n",
       "      <td>3</td>\n",
       "      <td>0</td>\n",
       "      <td>0</td>\n",
       "      <td>2</td>\n",
       "      <td>1</td>\n",
       "      <td>4</td>\n",
       "      <td>0</td>\n",
       "    </tr>\n",
       "    <tr>\n",
       "      <th>2</th>\n",
       "      <td>0</td>\n",
       "      <td>2</td>\n",
       "      <td>2</td>\n",
       "      <td>3</td>\n",
       "      <td>0</td>\n",
       "      <td>0</td>\n",
       "      <td>2</td>\n",
       "      <td>0</td>\n",
       "      <td>1</td>\n",
       "      <td>0</td>\n",
       "    </tr>\n",
       "    <tr>\n",
       "      <th>3</th>\n",
       "      <td>0</td>\n",
       "      <td>4</td>\n",
       "      <td>0</td>\n",
       "      <td>2</td>\n",
       "      <td>0</td>\n",
       "      <td>0</td>\n",
       "      <td>2</td>\n",
       "      <td>1</td>\n",
       "      <td>2</td>\n",
       "      <td>0</td>\n",
       "    </tr>\n",
       "    <tr>\n",
       "      <th>4</th>\n",
       "      <td>0</td>\n",
       "      <td>2</td>\n",
       "      <td>2</td>\n",
       "      <td>0</td>\n",
       "      <td>0</td>\n",
       "      <td>0</td>\n",
       "      <td>2</td>\n",
       "      <td>1</td>\n",
       "      <td>3</td>\n",
       "      <td>0</td>\n",
       "    </tr>\n",
       "  </tbody>\n",
       "</table>\n",
       "</div>"
      ],
      "text/plain": [
       "   Class  age  menopause  tumor_size  inv_nodes  node_caps  deg_malig  breast  \\\n",
       "0      0    1          2           5          0          0          3       0   \n",
       "1      0    2          2           3          0          0          2       1   \n",
       "2      0    2          2           3          0          0          2       0   \n",
       "3      0    4          0           2          0          0          2       1   \n",
       "4      0    2          2           0          0          0          2       1   \n",
       "\n",
       "   breast_quad  irradiat  \n",
       "0            1         0  \n",
       "1            4         0  \n",
       "2            1         0  \n",
       "3            2         0  \n",
       "4            3         0  "
      ]
     },
     "execution_count": 19,
     "metadata": {},
     "output_type": "execute_result"
    }
   ],
   "source": [
    "b_df.head(5)"
   ]
  },
  {
   "cell_type": "code",
   "execution_count": 20,
   "id": "10bb84af",
   "metadata": {},
   "outputs": [
    {
     "data": {
      "text/plain": [
       "{'age': array([1, 2, 4, 3, 5, 0]),\n",
       " 'menopause': array([2, 0, 1]),\n",
       " 'tumor_size': array([ 5,  3,  2,  0,  4, 10,  1,  7,  6,  9,  8]),\n",
       " 'inv_nodes': array([0, 5, 6, 4, 2, 1, 3]),\n",
       " 'node_caps': array([0, 1]),\n",
       " 'deg_malig': array([3, 2, 1], dtype=int64),\n",
       " 'breast': array([0, 1]),\n",
       " 'breast_quad': array([1, 4, 2, 3, 0]),\n",
       " 'irradiat': array([0, 1])}"
      ]
     },
     "execution_count": 20,
     "metadata": {},
     "output_type": "execute_result"
    }
   ],
   "source": [
    "cate(b_df)"
   ]
  },
  {
   "cell_type": "code",
   "execution_count": 21,
   "id": "f68484bc",
   "metadata": {},
   "outputs": [
    {
     "data": {
      "text/plain": [
       "Class          int32\n",
       "age            int32\n",
       "menopause      int32\n",
       "tumor_size     int32\n",
       "inv_nodes      int32\n",
       "node_caps      int32\n",
       "deg_malig      int64\n",
       "breast         int32\n",
       "breast_quad    int32\n",
       "irradiat       int32\n",
       "dtype: object"
      ]
     },
     "execution_count": 21,
     "metadata": {},
     "output_type": "execute_result"
    }
   ],
   "source": [
    "b_df.dtypes"
   ]
  },
  {
   "cell_type": "code",
   "execution_count": 22,
   "id": "c0f14508",
   "metadata": {},
   "outputs": [
    {
     "data": {
      "text/html": [
       "<div>\n",
       "<style scoped>\n",
       "    .dataframe tbody tr th:only-of-type {\n",
       "        vertical-align: middle;\n",
       "    }\n",
       "\n",
       "    .dataframe tbody tr th {\n",
       "        vertical-align: top;\n",
       "    }\n",
       "\n",
       "    .dataframe thead th {\n",
       "        text-align: right;\n",
       "    }\n",
       "</style>\n",
       "<table border=\"1\" class=\"dataframe\">\n",
       "  <thead>\n",
       "    <tr style=\"text-align: right;\">\n",
       "      <th></th>\n",
       "      <th>count</th>\n",
       "      <th>mean</th>\n",
       "      <th>std</th>\n",
       "      <th>min</th>\n",
       "      <th>25%</th>\n",
       "      <th>50%</th>\n",
       "      <th>75%</th>\n",
       "      <th>max</th>\n",
       "    </tr>\n",
       "  </thead>\n",
       "  <tbody>\n",
       "    <tr>\n",
       "      <th>Class</th>\n",
       "      <td>277.0</td>\n",
       "      <td>0.292419</td>\n",
       "      <td>0.455697</td>\n",
       "      <td>0.0</td>\n",
       "      <td>0.0</td>\n",
       "      <td>0.0</td>\n",
       "      <td>1.0</td>\n",
       "      <td>1.0</td>\n",
       "    </tr>\n",
       "    <tr>\n",
       "      <th>age</th>\n",
       "      <td>277.0</td>\n",
       "      <td>2.642599</td>\n",
       "      <td>1.010125</td>\n",
       "      <td>0.0</td>\n",
       "      <td>2.0</td>\n",
       "      <td>3.0</td>\n",
       "      <td>3.0</td>\n",
       "      <td>5.0</td>\n",
       "    </tr>\n",
       "    <tr>\n",
       "      <th>menopause</th>\n",
       "      <td>277.0</td>\n",
       "      <td>1.093863</td>\n",
       "      <td>0.988264</td>\n",
       "      <td>0.0</td>\n",
       "      <td>0.0</td>\n",
       "      <td>2.0</td>\n",
       "      <td>2.0</td>\n",
       "      <td>2.0</td>\n",
       "    </tr>\n",
       "    <tr>\n",
       "      <th>tumor_size</th>\n",
       "      <td>277.0</td>\n",
       "      <td>4.068592</td>\n",
       "      <td>2.178366</td>\n",
       "      <td>0.0</td>\n",
       "      <td>3.0</td>\n",
       "      <td>4.0</td>\n",
       "      <td>5.0</td>\n",
       "      <td>10.0</td>\n",
       "    </tr>\n",
       "    <tr>\n",
       "      <th>inv_nodes</th>\n",
       "      <td>277.0</td>\n",
       "      <td>1.014440</td>\n",
       "      <td>1.876574</td>\n",
       "      <td>0.0</td>\n",
       "      <td>0.0</td>\n",
       "      <td>0.0</td>\n",
       "      <td>0.0</td>\n",
       "      <td>6.0</td>\n",
       "    </tr>\n",
       "    <tr>\n",
       "      <th>node_caps</th>\n",
       "      <td>277.0</td>\n",
       "      <td>0.202166</td>\n",
       "      <td>0.402342</td>\n",
       "      <td>0.0</td>\n",
       "      <td>0.0</td>\n",
       "      <td>0.0</td>\n",
       "      <td>0.0</td>\n",
       "      <td>1.0</td>\n",
       "    </tr>\n",
       "    <tr>\n",
       "      <th>deg_malig</th>\n",
       "      <td>277.0</td>\n",
       "      <td>2.057762</td>\n",
       "      <td>0.729989</td>\n",
       "      <td>1.0</td>\n",
       "      <td>2.0</td>\n",
       "      <td>2.0</td>\n",
       "      <td>3.0</td>\n",
       "      <td>3.0</td>\n",
       "    </tr>\n",
       "    <tr>\n",
       "      <th>breast</th>\n",
       "      <td>277.0</td>\n",
       "      <td>0.476534</td>\n",
       "      <td>0.500353</td>\n",
       "      <td>0.0</td>\n",
       "      <td>0.0</td>\n",
       "      <td>0.0</td>\n",
       "      <td>1.0</td>\n",
       "      <td>1.0</td>\n",
       "    </tr>\n",
       "    <tr>\n",
       "      <th>breast_quad</th>\n",
       "      <td>277.0</td>\n",
       "      <td>1.787004</td>\n",
       "      <td>1.097483</td>\n",
       "      <td>0.0</td>\n",
       "      <td>1.0</td>\n",
       "      <td>2.0</td>\n",
       "      <td>2.0</td>\n",
       "      <td>4.0</td>\n",
       "    </tr>\n",
       "    <tr>\n",
       "      <th>irradiat</th>\n",
       "      <td>277.0</td>\n",
       "      <td>0.223827</td>\n",
       "      <td>0.417562</td>\n",
       "      <td>0.0</td>\n",
       "      <td>0.0</td>\n",
       "      <td>0.0</td>\n",
       "      <td>0.0</td>\n",
       "      <td>1.0</td>\n",
       "    </tr>\n",
       "  </tbody>\n",
       "</table>\n",
       "</div>"
      ],
      "text/plain": [
       "             count      mean       std  min  25%  50%  75%   max\n",
       "Class        277.0  0.292419  0.455697  0.0  0.0  0.0  1.0   1.0\n",
       "age          277.0  2.642599  1.010125  0.0  2.0  3.0  3.0   5.0\n",
       "menopause    277.0  1.093863  0.988264  0.0  0.0  2.0  2.0   2.0\n",
       "tumor_size   277.0  4.068592  2.178366  0.0  3.0  4.0  5.0  10.0\n",
       "inv_nodes    277.0  1.014440  1.876574  0.0  0.0  0.0  0.0   6.0\n",
       "node_caps    277.0  0.202166  0.402342  0.0  0.0  0.0  0.0   1.0\n",
       "deg_malig    277.0  2.057762  0.729989  1.0  2.0  2.0  3.0   3.0\n",
       "breast       277.0  0.476534  0.500353  0.0  0.0  0.0  1.0   1.0\n",
       "breast_quad  277.0  1.787004  1.097483  0.0  1.0  2.0  2.0   4.0\n",
       "irradiat     277.0  0.223827  0.417562  0.0  0.0  0.0  0.0   1.0"
      ]
     },
     "execution_count": 22,
     "metadata": {},
     "output_type": "execute_result"
    }
   ],
   "source": [
    "b_df.describe().T"
   ]
  },
  {
   "cell_type": "code",
   "execution_count": 23,
   "id": "79986eb2",
   "metadata": {},
   "outputs": [
    {
     "name": "stdout",
     "output_type": "stream",
     "text": [
      "Class          0.917675\n",
      "age            0.019817\n",
      "menopause     -0.189562\n",
      "tumor_size     0.496189\n",
      "inv_nodes      1.460108\n",
      "node_caps      1.491267\n",
      "deg_malig     -0.089498\n",
      "breast         0.094479\n",
      "breast_quad    0.629747\n",
      "irradiat       1.332411\n",
      "dtype: float64\n"
     ]
    }
   ],
   "source": [
    "skewness = b_df.skew()\n",
    "print(skewness)"
   ]
  },
  {
   "cell_type": "code",
   "execution_count": 24,
   "id": "7fa94606",
   "metadata": {},
   "outputs": [],
   "source": [
    "#b_df = np.sqrt(b_df)\n",
    "#b_df"
   ]
  },
  {
   "cell_type": "code",
   "execution_count": 25,
   "id": "b3df9efa",
   "metadata": {},
   "outputs": [],
   "source": [
    "#skewness = b_df.skew()\n",
    "#print(skewness)"
   ]
  },
  {
   "cell_type": "code",
   "execution_count": null,
   "id": "f1d2f6e8",
   "metadata": {},
   "outputs": [],
   "source": []
  },
  {
   "cell_type": "markdown",
   "id": "72542333",
   "metadata": {},
   "source": [
    "We will be using the StratifiedShuffleSplit to initailly handle the imbalanced nature of the dataset"
   ]
  },
  {
   "cell_type": "code",
   "execution_count": 26,
   "id": "7da71631",
   "metadata": {},
   "outputs": [],
   "source": [
    "X = b_df.loc[:, b_df.columns != 'Class']\n",
    "#X"
   ]
  },
  {
   "cell_type": "code",
   "execution_count": 27,
   "id": "e7a0d7ff",
   "metadata": {},
   "outputs": [],
   "source": [
    "y = b_df[['Class']]\n",
    "#y"
   ]
  },
  {
   "cell_type": "code",
   "execution_count": 28,
   "id": "7ed99a5f",
   "metadata": {},
   "outputs": [
    {
     "data": {
      "text/plain": [
       "age           -0.086981\n",
       "menopause      0.059512\n",
       "tumor_size     0.143968\n",
       "inv_nodes      0.325523\n",
       "node_caps      0.289002\n",
       "deg_malig      0.330253\n",
       "breast        -0.041304\n",
       "breast_quad    0.059788\n",
       "irradiat       0.226020\n",
       "Name: Class, dtype: float64"
      ]
     },
     "execution_count": 28,
     "metadata": {},
     "output_type": "execute_result"
    }
   ],
   "source": [
    "#checking for correlation of individual variables with the taget varaible.FETAURE SELECTION KENAN\n",
    "features_corr = b_df.corr()['Class'][1:]\n",
    "features_corr"
   ]
  },
  {
   "cell_type": "code",
   "execution_count": 29,
   "id": "196b4865",
   "metadata": {},
   "outputs": [
    {
     "data": {
      "text/plain": [
       "\"\\n#visualizing using  a histogram\\nimport seaborn as sns\\nsns.set_context('talk')\\nsns.set_style('white')\\n\\nfig, ax = plt.subplots(figsize = (10,6))\\n\\nax = sns.histplot(features_corr.abs(), bins = 50)\\nax.set(xlabel='Absolute Correlation', ylabel='Frequency');\\n#plt.show()\\n\""
      ]
     },
     "execution_count": 29,
     "metadata": {},
     "output_type": "execute_result"
    }
   ],
   "source": [
    "'''\n",
    "#visualizing using  a histogram\n",
    "import seaborn as sns\n",
    "sns.set_context('talk')\n",
    "sns.set_style('white')\n",
    "\n",
    "fig, ax = plt.subplots(figsize = (10,6))\n",
    "\n",
    "ax = sns.histplot(features_corr.abs(), bins = 50)\n",
    "ax.set(xlabel='Absolute Correlation', ylabel='Frequency');\n",
    "#plt.show()\n",
    "'''"
   ]
  },
  {
   "cell_type": "code",
   "execution_count": 30,
   "id": "35d7a510",
   "metadata": {},
   "outputs": [
    {
     "data": {
      "text/html": [
       "<div>\n",
       "<style scoped>\n",
       "    .dataframe tbody tr th:only-of-type {\n",
       "        vertical-align: middle;\n",
       "    }\n",
       "\n",
       "    .dataframe tbody tr th {\n",
       "        vertical-align: top;\n",
       "    }\n",
       "\n",
       "    .dataframe thead th {\n",
       "        text-align: right;\n",
       "    }\n",
       "</style>\n",
       "<table border=\"1\" class=\"dataframe\">\n",
       "  <thead>\n",
       "    <tr style=\"text-align: right;\">\n",
       "      <th></th>\n",
       "      <th>features</th>\n",
       "      <th>scores</th>\n",
       "    </tr>\n",
       "  </thead>\n",
       "  <tbody>\n",
       "    <tr>\n",
       "      <th>3</th>\n",
       "      <td>inv_nodes</td>\n",
       "      <td>101.526045</td>\n",
       "    </tr>\n",
       "    <tr>\n",
       "      <th>4</th>\n",
       "      <td>node_caps</td>\n",
       "      <td>18.458456</td>\n",
       "    </tr>\n",
       "    <tr>\n",
       "      <th>8</th>\n",
       "      <td>irradiat</td>\n",
       "      <td>10.983249</td>\n",
       "    </tr>\n",
       "    <tr>\n",
       "      <th>5</th>\n",
       "      <td>deg_malig</td>\n",
       "      <td>7.795415</td>\n",
       "    </tr>\n",
       "    <tr>\n",
       "      <th>2</th>\n",
       "      <td>tumor_size</td>\n",
       "      <td>6.672021</td>\n",
       "    </tr>\n",
       "    <tr>\n",
       "      <th>1</th>\n",
       "      <td>menopause</td>\n",
       "      <td>0.872771</td>\n",
       "    </tr>\n",
       "    <tr>\n",
       "      <th>0</th>\n",
       "      <td>age</td>\n",
       "      <td>0.806259</td>\n",
       "    </tr>\n",
       "    <tr>\n",
       "      <th>7</th>\n",
       "      <td>breast_quad</td>\n",
       "      <td>0.664976</td>\n",
       "    </tr>\n",
       "    <tr>\n",
       "      <th>6</th>\n",
       "      <td>breast</td>\n",
       "      <td>0.247372</td>\n",
       "    </tr>\n",
       "  </tbody>\n",
       "</table>\n",
       "</div>"
      ],
      "text/plain": [
       "      features      scores\n",
       "3    inv_nodes  101.526045\n",
       "4    node_caps   18.458456\n",
       "8     irradiat   10.983249\n",
       "5    deg_malig    7.795415\n",
       "2   tumor_size    6.672021\n",
       "1    menopause    0.872771\n",
       "0          age    0.806259\n",
       "7  breast_quad    0.664976\n",
       "6       breast    0.247372"
      ]
     },
     "execution_count": 30,
     "metadata": {},
     "output_type": "execute_result"
    }
   ],
   "source": [
    "#USING THE CHI2 for feature selection\n",
    "\n",
    "\n",
    "select_chi = SelectKBest(score_func = chi2, k = 5)\n",
    "select_featurs = select_chi.fit(X, y)\n",
    "\n",
    "select_featurs = pd.DataFrame(select_featurs.scores_)\n",
    "feature_columns = pd.DataFrame(X.columns)\n",
    "\n",
    "\n",
    "General_table = pd.concat([feature_columns,select_featurs], axis = 1)\n",
    "General_table.columns  = ['features','scores']\n",
    "\n",
    "General_table.sort_values(by = 'scores', ascending = False)"
   ]
  },
  {
   "cell_type": "markdown",
   "id": "f9c9fdc5",
   "metadata": {},
   "source": [
    "By using the chisquare test, we can see that inv_nodes (Number of involved lymph nodes in breast cancer patients) happens to\n",
    "be the most correlated varible with the target class. Also, the age, breast_quad, and breast position has little to do with the target class"
   ]
  },
  {
   "cell_type": "markdown",
   "id": "cf92590a",
   "metadata": {},
   "source": [
    "we used the stratify data spilt to  Stratification ensures\n",
    "that the class proportions are preserved in both the training and testing datasets"
   ]
  },
  {
   "cell_type": "markdown",
   "id": "efba86b8",
   "metadata": {},
   "source": [
    "## Creating copies of data for each classifier"
   ]
  },
  {
   "cell_type": "code",
   "execution_count": 31,
   "id": "603c8b89",
   "metadata": {},
   "outputs": [],
   "source": [
    "Xlr = X.copy()\n",
    "ylr = y.copy()\n",
    "#for logisticRegression "
   ]
  },
  {
   "cell_type": "code",
   "execution_count": 32,
   "id": "a409fe6f",
   "metadata": {},
   "outputs": [
    {
     "data": {
      "text/plain": [
       "'scaler =  StandardScaler()\\nXlr = scaler.fit_transform(Xlr)\\nXlr'"
      ]
     },
     "execution_count": 32,
     "metadata": {},
     "output_type": "execute_result"
    }
   ],
   "source": [
    "\"\"\"scaler =  StandardScaler()\n",
    "Xlr = scaler.fit_transform(Xlr)\n",
    "Xlr\"\"\"\n",
    "#Applying standardscaler does not help improve accuracy"
   ]
  },
  {
   "cell_type": "code",
   "execution_count": 33,
   "id": "cd57e049",
   "metadata": {},
   "outputs": [
    {
     "name": "stdout",
     "output_type": "stream",
     "text": [
      "the shapes X_train is: (221, 9)\n",
      " y_train is: (221, 1)\n",
      " X_test is: (56, 9)\n",
      " y_test is: (56, 1)\n"
     ]
    }
   ],
   "source": [
    "X_train, X_test, y_train, y_test = train_test_split(X, y, test_size = 0.2, stratify = y, random_state = rs)\n",
    "X_train.shape\n",
    "print('the shapes X_train is: {}\\n y_train is: {}\\n X_test is: {}\\n y_test is: {}'.format(X_train.shape, y_train.shape, X_test.shape, y_test.shape))"
   ]
  },
  {
   "cell_type": "markdown",
   "id": "a06bfd56",
   "metadata": {},
   "source": [
    "# Learning Algorithms"
   ]
  },
  {
   "cell_type": "markdown",
   "id": "bf29e13b",
   "metadata": {},
   "source": [
    "### Fitting a logistic regression model without any regularization. Also no unbalanced data handling techniques used."
   ]
  },
  {
   "cell_type": "code",
   "execution_count": 34,
   "id": "2db9bff3",
   "metadata": {},
   "outputs": [
    {
     "data": {
      "text/plain": [
       "'def get_accuracy(X_train, X_test, y_train, y_test, model):\\n    return  {\"test Accuracy\":metrics.accuracy_score(y_test, model.predict(X_test)),\\n             \"trian Accuracy\": metrics.accuracy_score(y_train, model.predict(X_train))}'"
      ]
     },
     "execution_count": 34,
     "metadata": {},
     "output_type": "execute_result"
    }
   ],
   "source": [
    "'''def get_accuracy(X_train, X_test, y_train, y_test, model):\n",
    "    return  {\"test Accuracy\":metrics.accuracy_score(y_test, model.predict(X_test)),\n",
    "             \"trian Accuracy\": metrics.accuracy_score(y_train, model.predict(X_train))}'''"
   ]
  },
  {
   "cell_type": "code",
   "execution_count": 35,
   "id": "c654244c",
   "metadata": {},
   "outputs": [],
   "source": [
    "def get_evaluation_scores(yt, prd):\n",
    "    result = {}\n",
    "    result['accuracy'] = accuracy_score(yt, prd),\n",
    "    result['precision'] = precision_score(yt, prd),\n",
    "    result['recall'] = recall_score(yt, prd),\n",
    "    result['f1'] = f1_score(yt, prd), \n",
    "    result['auc'] = roc_auc_score(yt, prd)\n",
    "    \n",
    "    return result"
   ]
  },
  {
   "cell_type": "code",
   "execution_count": 36,
   "id": "b83bb2e4",
   "metadata": {},
   "outputs": [],
   "source": [
    "normal_lr = LogisticRegression(solver = 'liblinear')\n",
    "normal_lr.fit(X_train, y_train)\n",
    "y_pred = normal_lr.predict(X_test)\n",
    "\n",
    "#Getting the accuracy score on train and test\n",
    "#get_accuracy(X_train, X_test, y_train, y_test, normal_lr)"
   ]
  },
  {
   "cell_type": "code",
   "execution_count": 37,
   "id": "ba6a0be3",
   "metadata": {},
   "outputs": [
    {
     "data": {
      "text/html": [
       "<div>\n",
       "<style scoped>\n",
       "    .dataframe tbody tr th:only-of-type {\n",
       "        vertical-align: middle;\n",
       "    }\n",
       "\n",
       "    .dataframe tbody tr th {\n",
       "        vertical-align: top;\n",
       "    }\n",
       "\n",
       "    .dataframe thead th {\n",
       "        text-align: right;\n",
       "    }\n",
       "</style>\n",
       "<table border=\"1\" class=\"dataframe\">\n",
       "  <thead>\n",
       "    <tr style=\"text-align: right;\">\n",
       "      <th></th>\n",
       "      <th>Normal_LR_Scores</th>\n",
       "    </tr>\n",
       "  </thead>\n",
       "  <tbody>\n",
       "    <tr>\n",
       "      <th>accuracy</th>\n",
       "      <td>0.803571</td>\n",
       "    </tr>\n",
       "    <tr>\n",
       "      <th>precision</th>\n",
       "      <td>0.777778</td>\n",
       "    </tr>\n",
       "    <tr>\n",
       "      <th>recall</th>\n",
       "      <td>0.437500</td>\n",
       "    </tr>\n",
       "    <tr>\n",
       "      <th>f1</th>\n",
       "      <td>0.560000</td>\n",
       "    </tr>\n",
       "    <tr>\n",
       "      <th>auc</th>\n",
       "      <td>0.693750</td>\n",
       "    </tr>\n",
       "  </tbody>\n",
       "</table>\n",
       "</div>"
      ],
      "text/plain": [
       "           Normal_LR_Scores\n",
       "accuracy           0.803571\n",
       "precision          0.777778\n",
       "recall             0.437500\n",
       "f1                 0.560000\n",
       "auc                0.693750"
      ]
     },
     "execution_count": 37,
     "metadata": {},
     "output_type": "execute_result"
    }
   ],
   "source": [
    "\n",
    "#Getting other scores\n",
    "scores = get_evaluation_scores(y_test, y_pred)\n",
    "scores = pd.DataFrame(scores, index = ['Normal_LR_Scores']).T\n",
    "scores"
   ]
  },
  {
   "cell_type": "markdown",
   "id": "3753d87e",
   "metadata": {},
   "source": [
    "### Using GridSearch to serach for best parameters for LogisticRegression"
   ]
  },
  {
   "cell_type": "code",
   "execution_count": 38,
   "id": "c49bb8ab",
   "metadata": {},
   "outputs": [],
   "source": [
    "normal_lr_GS = LogisticRegression()\n",
    "#normal_lr.fit(X_train, y_train)\n",
    "#y_pred = normal_lr.predict(X_test)\n",
    "\n",
    "param_grid = {\n",
    "    'C': [0.1, 1.0, 10.0],\n",
    "    'penalty': ['l1', 'l2'],\n",
    "    'solver': ['liblinear', 'lbfgs', 'saga'],\n",
    "    'class_weight': [None],\n",
    "    'max_iter': [100,200,500]\n",
    "}\n",
    "\n",
    "search = GridSearchCV(estimator = normal_lr_GS, \n",
    "                      param_grid = param_grid,\n",
    "                      n_jobs = -1,\n",
    "                      scoring='f1'\n",
    "                     )\n",
    "\n",
    "search.fit(X_train, y_train)\n",
    "y_pred = search.predict(X_test)"
   ]
  },
  {
   "cell_type": "code",
   "execution_count": 39,
   "id": "6dda1915",
   "metadata": {},
   "outputs": [
    {
     "data": {
      "text/html": [
       "<div>\n",
       "<style scoped>\n",
       "    .dataframe tbody tr th:only-of-type {\n",
       "        vertical-align: middle;\n",
       "    }\n",
       "\n",
       "    .dataframe tbody tr th {\n",
       "        vertical-align: top;\n",
       "    }\n",
       "\n",
       "    .dataframe thead th {\n",
       "        text-align: right;\n",
       "    }\n",
       "</style>\n",
       "<table border=\"1\" class=\"dataframe\">\n",
       "  <thead>\n",
       "    <tr style=\"text-align: right;\">\n",
       "      <th></th>\n",
       "      <th>Grid-search_scores</th>\n",
       "    </tr>\n",
       "  </thead>\n",
       "  <tbody>\n",
       "    <tr>\n",
       "      <th>accuracy</th>\n",
       "      <td>0.750000</td>\n",
       "    </tr>\n",
       "    <tr>\n",
       "      <th>precision</th>\n",
       "      <td>0.666667</td>\n",
       "    </tr>\n",
       "    <tr>\n",
       "      <th>recall</th>\n",
       "      <td>0.250000</td>\n",
       "    </tr>\n",
       "    <tr>\n",
       "      <th>f1</th>\n",
       "      <td>0.363636</td>\n",
       "    </tr>\n",
       "    <tr>\n",
       "      <th>auc</th>\n",
       "      <td>0.600000</td>\n",
       "    </tr>\n",
       "  </tbody>\n",
       "</table>\n",
       "</div>"
      ],
      "text/plain": [
       "           Grid-search_scores\n",
       "accuracy             0.750000\n",
       "precision            0.666667\n",
       "recall               0.250000\n",
       "f1                   0.363636\n",
       "auc                  0.600000"
      ]
     },
     "execution_count": 39,
     "metadata": {},
     "output_type": "execute_result"
    }
   ],
   "source": [
    "eval_ = get_evaluation_scores(y_test, y_pred)\n",
    "df_grid_search = pd.DataFrame(eval_, index=['Grid-search_scores']).T\n",
    "df_grid_search"
   ]
  },
  {
   "cell_type": "code",
   "execution_count": 40,
   "id": "670ba643",
   "metadata": {},
   "outputs": [
    {
     "data": {
      "text/plain": [
       "0.4662395118230359"
      ]
     },
     "execution_count": 40,
     "metadata": {},
     "output_type": "execute_result"
    }
   ],
   "source": [
    "search.best_score_ #There is a little improvement in F1 using the grid search to tune parameters 0.5730935730935732"
   ]
  },
  {
   "cell_type": "code",
   "execution_count": 41,
   "id": "891a2072",
   "metadata": {},
   "outputs": [
    {
     "data": {
      "text/plain": [
       "{'C': 1.0,\n",
       " 'class_weight': None,\n",
       " 'max_iter': 500,\n",
       " 'penalty': 'l1',\n",
       " 'solver': 'saga'}"
      ]
     },
     "execution_count": 41,
     "metadata": {},
     "output_type": "execute_result"
    }
   ],
   "source": [
    "search.best_params_"
   ]
  },
  {
   "cell_type": "code",
   "execution_count": 42,
   "id": "4891074b",
   "metadata": {},
   "outputs": [
    {
     "data": {
      "text/html": [
       "<style>#sk-container-id-1 {color: black;background-color: white;}#sk-container-id-1 pre{padding: 0;}#sk-container-id-1 div.sk-toggleable {background-color: white;}#sk-container-id-1 label.sk-toggleable__label {cursor: pointer;display: block;width: 100%;margin-bottom: 0;padding: 0.3em;box-sizing: border-box;text-align: center;}#sk-container-id-1 label.sk-toggleable__label-arrow:before {content: \"▸\";float: left;margin-right: 0.25em;color: #696969;}#sk-container-id-1 label.sk-toggleable__label-arrow:hover:before {color: black;}#sk-container-id-1 div.sk-estimator:hover label.sk-toggleable__label-arrow:before {color: black;}#sk-container-id-1 div.sk-toggleable__content {max-height: 0;max-width: 0;overflow: hidden;text-align: left;background-color: #f0f8ff;}#sk-container-id-1 div.sk-toggleable__content pre {margin: 0.2em;color: black;border-radius: 0.25em;background-color: #f0f8ff;}#sk-container-id-1 input.sk-toggleable__control:checked~div.sk-toggleable__content {max-height: 200px;max-width: 100%;overflow: auto;}#sk-container-id-1 input.sk-toggleable__control:checked~label.sk-toggleable__label-arrow:before {content: \"▾\";}#sk-container-id-1 div.sk-estimator input.sk-toggleable__control:checked~label.sk-toggleable__label {background-color: #d4ebff;}#sk-container-id-1 div.sk-label input.sk-toggleable__control:checked~label.sk-toggleable__label {background-color: #d4ebff;}#sk-container-id-1 input.sk-hidden--visually {border: 0;clip: rect(1px 1px 1px 1px);clip: rect(1px, 1px, 1px, 1px);height: 1px;margin: -1px;overflow: hidden;padding: 0;position: absolute;width: 1px;}#sk-container-id-1 div.sk-estimator {font-family: monospace;background-color: #f0f8ff;border: 1px dotted black;border-radius: 0.25em;box-sizing: border-box;margin-bottom: 0.5em;}#sk-container-id-1 div.sk-estimator:hover {background-color: #d4ebff;}#sk-container-id-1 div.sk-parallel-item::after {content: \"\";width: 100%;border-bottom: 1px solid gray;flex-grow: 1;}#sk-container-id-1 div.sk-label:hover label.sk-toggleable__label {background-color: #d4ebff;}#sk-container-id-1 div.sk-serial::before {content: \"\";position: absolute;border-left: 1px solid gray;box-sizing: border-box;top: 0;bottom: 0;left: 50%;z-index: 0;}#sk-container-id-1 div.sk-serial {display: flex;flex-direction: column;align-items: center;background-color: white;padding-right: 0.2em;padding-left: 0.2em;position: relative;}#sk-container-id-1 div.sk-item {position: relative;z-index: 1;}#sk-container-id-1 div.sk-parallel {display: flex;align-items: stretch;justify-content: center;background-color: white;position: relative;}#sk-container-id-1 div.sk-item::before, #sk-container-id-1 div.sk-parallel-item::before {content: \"\";position: absolute;border-left: 1px solid gray;box-sizing: border-box;top: 0;bottom: 0;left: 50%;z-index: -1;}#sk-container-id-1 div.sk-parallel-item {display: flex;flex-direction: column;z-index: 1;position: relative;background-color: white;}#sk-container-id-1 div.sk-parallel-item:first-child::after {align-self: flex-end;width: 50%;}#sk-container-id-1 div.sk-parallel-item:last-child::after {align-self: flex-start;width: 50%;}#sk-container-id-1 div.sk-parallel-item:only-child::after {width: 0;}#sk-container-id-1 div.sk-dashed-wrapped {border: 1px dashed gray;margin: 0 0.4em 0.5em 0.4em;box-sizing: border-box;padding-bottom: 0.4em;background-color: white;}#sk-container-id-1 div.sk-label label {font-family: monospace;font-weight: bold;display: inline-block;line-height: 1.2em;}#sk-container-id-1 div.sk-label-container {text-align: center;}#sk-container-id-1 div.sk-container {/* jupyter's `normalize.less` sets `[hidden] { display: none; }` but bootstrap.min.css set `[hidden] { display: none !important; }` so we also need the `!important` here to be able to override the default hidden behavior on the sphinx rendered scikit-learn.org. See: https://github.com/scikit-learn/scikit-learn/issues/21755 */display: inline-block !important;position: relative;}#sk-container-id-1 div.sk-text-repr-fallback {display: none;}</style><div id=\"sk-container-id-1\" class=\"sk-top-container\"><div class=\"sk-text-repr-fallback\"><pre>LogisticRegression(max_iter=500, penalty=&#x27;l1&#x27;, solver=&#x27;saga&#x27;)</pre><b>In a Jupyter environment, please rerun this cell to show the HTML representation or trust the notebook. <br />On GitHub, the HTML representation is unable to render, please try loading this page with nbviewer.org.</b></div><div class=\"sk-container\" hidden><div class=\"sk-item\"><div class=\"sk-estimator sk-toggleable\"><input class=\"sk-toggleable__control sk-hidden--visually\" id=\"sk-estimator-id-1\" type=\"checkbox\" checked><label for=\"sk-estimator-id-1\" class=\"sk-toggleable__label sk-toggleable__label-arrow\">LogisticRegression</label><div class=\"sk-toggleable__content\"><pre>LogisticRegression(max_iter=500, penalty=&#x27;l1&#x27;, solver=&#x27;saga&#x27;)</pre></div></div></div></div></div>"
      ],
      "text/plain": [
       "LogisticRegression(max_iter=500, penalty='l1', solver='saga')"
      ]
     },
     "execution_count": 42,
     "metadata": {},
     "output_type": "execute_result"
    }
   ],
   "source": [
    "#best model\n",
    "search.best_estimator_"
   ]
  },
  {
   "cell_type": "markdown",
   "id": "18e3ead3",
   "metadata": {},
   "source": [
    "Now let us try to handle the imbalanced nature of the dataset.\n"
   ]
  },
  {
   "cell_type": "markdown",
   "id": "4c17076c",
   "metadata": {},
   "source": [
    "### First using the weighting strategy with deafaul LR"
   ]
  },
  {
   "cell_type": "code",
   "execution_count": 43,
   "id": "2f940727",
   "metadata": {},
   "outputs": [],
   "source": [
    "class_weight = {0:0.2,1:0.8} # this was setermined using a gridsearch. Although not showned explicitely here.\n",
    " \n",
    "'''normal_lr_weight = LogisticRegression(\n",
    "    C = 0.1,\n",
    "    penalty = 'l2',\n",
    "    solver = 'saga',\n",
    "    class_weight = class_weight,\n",
    "    max_iter = 100)\n",
    "'''\n",
    "\n",
    "normal_lr_weight = LogisticRegression(solver = 'liblinear', \n",
    "                                     class_weight = class_weight)\n",
    "\n",
    "normal_lr_weight.fit(X_train, y_train)\n",
    "y_pred = normal_lr_weight.predict(X_test)"
   ]
  },
  {
   "cell_type": "code",
   "execution_count": 44,
   "id": "bd8eeba5",
   "metadata": {},
   "outputs": [
    {
     "data": {
      "text/html": [
       "<div>\n",
       "<style scoped>\n",
       "    .dataframe tbody tr th:only-of-type {\n",
       "        vertical-align: middle;\n",
       "    }\n",
       "\n",
       "    .dataframe tbody tr th {\n",
       "        vertical-align: top;\n",
       "    }\n",
       "\n",
       "    .dataframe thead th {\n",
       "        text-align: right;\n",
       "    }\n",
       "</style>\n",
       "<table border=\"1\" class=\"dataframe\">\n",
       "  <thead>\n",
       "    <tr style=\"text-align: right;\">\n",
       "      <th></th>\n",
       "      <th>Weight_scores</th>\n",
       "    </tr>\n",
       "  </thead>\n",
       "  <tbody>\n",
       "    <tr>\n",
       "      <th>accuracy</th>\n",
       "      <td>0.482143</td>\n",
       "    </tr>\n",
       "    <tr>\n",
       "      <th>precision</th>\n",
       "      <td>0.314286</td>\n",
       "    </tr>\n",
       "    <tr>\n",
       "      <th>recall</th>\n",
       "      <td>0.687500</td>\n",
       "    </tr>\n",
       "    <tr>\n",
       "      <th>f1</th>\n",
       "      <td>0.431373</td>\n",
       "    </tr>\n",
       "    <tr>\n",
       "      <th>auc</th>\n",
       "      <td>0.543750</td>\n",
       "    </tr>\n",
       "  </tbody>\n",
       "</table>\n",
       "</div>"
      ],
      "text/plain": [
       "           Weight_scores\n",
       "accuracy        0.482143\n",
       "precision       0.314286\n",
       "recall          0.687500\n",
       "f1              0.431373\n",
       "auc             0.543750"
      ]
     },
     "execution_count": 44,
     "metadata": {},
     "output_type": "execute_result"
    }
   ],
   "source": [
    "eval_ = get_evaluation_scores(y_test, y_pred) #there has been an Increase in F1 score 0.5283018867924528\n",
    "df_weight = pd.DataFrame(eval_, index=['Weight_scores']).T\n",
    "df_weight"
   ]
  },
  {
   "cell_type": "code",
   "execution_count": 45,
   "id": "f95bc2ac",
   "metadata": {},
   "outputs": [],
   "source": [
    "#search.best_score_ "
   ]
  },
  {
   "cell_type": "markdown",
   "id": "7e7b0389",
   "metadata": {},
   "source": [
    "### Using the Synthetic Minority Oversampling Technique (SMOTE) "
   ]
  },
  {
   "cell_type": "code",
   "execution_count": 46,
   "id": "c68ad47e",
   "metadata": {},
   "outputs": [
    {
     "data": {
      "text/plain": [
       "Class\n",
       "0        0.707581\n",
       "1        0.292419\n",
       "dtype: float64"
      ]
     },
     "execution_count": 46,
     "metadata": {},
     "output_type": "execute_result"
    }
   ],
   "source": [
    "y.value_counts(normalize = True)"
   ]
  },
  {
   "cell_type": "code",
   "execution_count": 47,
   "id": "280f3fb7",
   "metadata": {},
   "outputs": [],
   "source": [
    "smote = SMOTE(random_state = rs)\n",
    "X_smote, y_smote = smote.fit_resample(X_train,y_train)"
   ]
  },
  {
   "cell_type": "code",
   "execution_count": 48,
   "id": "77a87c4d",
   "metadata": {},
   "outputs": [
    {
     "data": {
      "text/plain": [
       "Class\n",
       "0        0.5\n",
       "1        0.5\n",
       "dtype: float64"
      ]
     },
     "execution_count": 48,
     "metadata": {},
     "output_type": "execute_result"
    }
   ],
   "source": [
    "y_smote.value_counts(normalize = True)"
   ]
  },
  {
   "cell_type": "markdown",
   "id": "56e34845",
   "metadata": {},
   "source": [
    "Now we again train our logisticRegression using new data"
   ]
  },
  {
   "cell_type": "code",
   "execution_count": 49,
   "id": "24340dbc",
   "metadata": {},
   "outputs": [],
   "source": [
    "\"\"\"normal_lr_smote = LogisticRegression(\n",
    "    C = 0.1,\n",
    "    penalty = 'l2',\n",
    "    solver = 'saga',\n",
    "    class_weight = None,\n",
    "    max_iter = 100)\n",
    "\"\"\"\n",
    "normal_lr_smote = LogisticRegression(solver = 'liblinear')\n",
    "\n",
    "normal_lr_smote.fit(X_smote, y_smote )\n",
    "y_pred = normal_lr_smote.predict(X_test)"
   ]
  },
  {
   "cell_type": "code",
   "execution_count": 50,
   "id": "3703f4cd",
   "metadata": {},
   "outputs": [
    {
     "data": {
      "text/html": [
       "<div>\n",
       "<style scoped>\n",
       "    .dataframe tbody tr th:only-of-type {\n",
       "        vertical-align: middle;\n",
       "    }\n",
       "\n",
       "    .dataframe tbody tr th {\n",
       "        vertical-align: top;\n",
       "    }\n",
       "\n",
       "    .dataframe thead th {\n",
       "        text-align: right;\n",
       "    }\n",
       "</style>\n",
       "<table border=\"1\" class=\"dataframe\">\n",
       "  <thead>\n",
       "    <tr style=\"text-align: right;\">\n",
       "      <th></th>\n",
       "      <th>Smote_scores</th>\n",
       "    </tr>\n",
       "  </thead>\n",
       "  <tbody>\n",
       "    <tr>\n",
       "      <th>accuracy</th>\n",
       "      <td>0.642857</td>\n",
       "    </tr>\n",
       "    <tr>\n",
       "      <th>precision</th>\n",
       "      <td>0.409091</td>\n",
       "    </tr>\n",
       "    <tr>\n",
       "      <th>recall</th>\n",
       "      <td>0.562500</td>\n",
       "    </tr>\n",
       "    <tr>\n",
       "      <th>f1</th>\n",
       "      <td>0.473684</td>\n",
       "    </tr>\n",
       "    <tr>\n",
       "      <th>auc</th>\n",
       "      <td>0.618750</td>\n",
       "    </tr>\n",
       "  </tbody>\n",
       "</table>\n",
       "</div>"
      ],
      "text/plain": [
       "           Smote_scores\n",
       "accuracy       0.642857\n",
       "precision      0.409091\n",
       "recall         0.562500\n",
       "f1             0.473684\n",
       "auc            0.618750"
      ]
     },
     "execution_count": 50,
     "metadata": {},
     "output_type": "execute_result"
    }
   ],
   "source": [
    "eval_ = get_evaluation_scores(y_test, y_pred)\n",
    "df_smote = pd.DataFrame(eval_, index=['Smote_scores']).T\n",
    "df_smote"
   ]
  },
  {
   "cell_type": "markdown",
   "id": "edefbbde",
   "metadata": {},
   "source": [
    "### Now using the undersampling technique"
   ]
  },
  {
   "cell_type": "code",
   "execution_count": 51,
   "id": "abfe8ce3",
   "metadata": {},
   "outputs": [],
   "source": [
    "Under_sample = RandomUnderSampler(random_state = rs)\n",
    "X_under, y_under = Under_sample.fit_resample(X_train, y_train)"
   ]
  },
  {
   "cell_type": "code",
   "execution_count": 52,
   "id": "4f0369a4",
   "metadata": {},
   "outputs": [
    {
     "data": {
      "text/plain": [
       "Class\n",
       "0        0.5\n",
       "1        0.5\n",
       "dtype: float64"
      ]
     },
     "execution_count": 52,
     "metadata": {},
     "output_type": "execute_result"
    }
   ],
   "source": [
    "y_under.value_counts(normalize = True)"
   ]
  },
  {
   "cell_type": "code",
   "execution_count": 53,
   "id": "517a7f07",
   "metadata": {},
   "outputs": [],
   "source": [
    "'''normal_lr_undersample = LogisticRegression(\n",
    "    C = 0.1,\n",
    "    penalty = 'l2',\n",
    "    solver = 'saga',\n",
    "    class_weight = None,\n",
    "    max_iter = 100)\n",
    "'''\n",
    "\n",
    "normal_lr_undersample = LogisticRegression(solver = 'liblinear')\n",
    "\n",
    "\n",
    "normal_lr_undersample.fit(X_smote, y_smote )\n",
    "y_pred = normal_lr_undersample.predict(X_test)"
   ]
  },
  {
   "cell_type": "code",
   "execution_count": 54,
   "id": "f2624dda",
   "metadata": {},
   "outputs": [
    {
     "data": {
      "text/html": [
       "<div>\n",
       "<style scoped>\n",
       "    .dataframe tbody tr th:only-of-type {\n",
       "        vertical-align: middle;\n",
       "    }\n",
       "\n",
       "    .dataframe tbody tr th {\n",
       "        vertical-align: top;\n",
       "    }\n",
       "\n",
       "    .dataframe thead th {\n",
       "        text-align: right;\n",
       "    }\n",
       "</style>\n",
       "<table border=\"1\" class=\"dataframe\">\n",
       "  <thead>\n",
       "    <tr style=\"text-align: right;\">\n",
       "      <th></th>\n",
       "      <th>Undersample_scores</th>\n",
       "    </tr>\n",
       "  </thead>\n",
       "  <tbody>\n",
       "    <tr>\n",
       "      <th>accuracy</th>\n",
       "      <td>0.642857</td>\n",
       "    </tr>\n",
       "    <tr>\n",
       "      <th>precision</th>\n",
       "      <td>0.409091</td>\n",
       "    </tr>\n",
       "    <tr>\n",
       "      <th>recall</th>\n",
       "      <td>0.562500</td>\n",
       "    </tr>\n",
       "    <tr>\n",
       "      <th>f1</th>\n",
       "      <td>0.473684</td>\n",
       "    </tr>\n",
       "    <tr>\n",
       "      <th>auc</th>\n",
       "      <td>0.618750</td>\n",
       "    </tr>\n",
       "  </tbody>\n",
       "</table>\n",
       "</div>"
      ],
      "text/plain": [
       "           Undersample_scores\n",
       "accuracy             0.642857\n",
       "precision            0.409091\n",
       "recall               0.562500\n",
       "f1                   0.473684\n",
       "auc                  0.618750"
      ]
     },
     "execution_count": 54,
     "metadata": {},
     "output_type": "execute_result"
    }
   ],
   "source": [
    "eval_ = get_evaluation_scores(y_test, y_pred)\n",
    "df_undersample = pd.DataFrame(eval_, index=['Undersample_scores']).T\n",
    "df_undersample "
   ]
  },
  {
   "cell_type": "markdown",
   "id": "caf2d2cb",
   "metadata": {},
   "source": [
    "## Now we concatenate the results from Normal LR, LR with gridsearchCV, LR with Weight, LR with Smote, and LR with Undersample"
   ]
  },
  {
   "cell_type": "code",
   "execution_count": 55,
   "id": "aea2618a",
   "metadata": {
    "scrolled": true
   },
   "outputs": [
    {
     "data": {
      "text/html": [
       "<div>\n",
       "<style scoped>\n",
       "    .dataframe tbody tr th:only-of-type {\n",
       "        vertical-align: middle;\n",
       "    }\n",
       "\n",
       "    .dataframe tbody tr th {\n",
       "        vertical-align: top;\n",
       "    }\n",
       "\n",
       "    .dataframe thead th {\n",
       "        text-align: right;\n",
       "    }\n",
       "</style>\n",
       "<table border=\"1\" class=\"dataframe\">\n",
       "  <thead>\n",
       "    <tr style=\"text-align: right;\">\n",
       "      <th></th>\n",
       "      <th>Normal_LR_Scores</th>\n",
       "      <th>Grid-search_scores</th>\n",
       "      <th>Weight_scores</th>\n",
       "      <th>Smote_scores</th>\n",
       "      <th>Undersample_scores</th>\n",
       "    </tr>\n",
       "  </thead>\n",
       "  <tbody>\n",
       "    <tr>\n",
       "      <th>accuracy</th>\n",
       "      <td>0.803571</td>\n",
       "      <td>0.750000</td>\n",
       "      <td>0.482143</td>\n",
       "      <td>0.642857</td>\n",
       "      <td>0.642857</td>\n",
       "    </tr>\n",
       "    <tr>\n",
       "      <th>precision</th>\n",
       "      <td>0.777778</td>\n",
       "      <td>0.666667</td>\n",
       "      <td>0.314286</td>\n",
       "      <td>0.409091</td>\n",
       "      <td>0.409091</td>\n",
       "    </tr>\n",
       "    <tr>\n",
       "      <th>recall</th>\n",
       "      <td>0.437500</td>\n",
       "      <td>0.250000</td>\n",
       "      <td>0.687500</td>\n",
       "      <td>0.562500</td>\n",
       "      <td>0.562500</td>\n",
       "    </tr>\n",
       "    <tr>\n",
       "      <th>f1</th>\n",
       "      <td>0.560000</td>\n",
       "      <td>0.363636</td>\n",
       "      <td>0.431373</td>\n",
       "      <td>0.473684</td>\n",
       "      <td>0.473684</td>\n",
       "    </tr>\n",
       "    <tr>\n",
       "      <th>auc</th>\n",
       "      <td>0.693750</td>\n",
       "      <td>0.600000</td>\n",
       "      <td>0.543750</td>\n",
       "      <td>0.618750</td>\n",
       "      <td>0.618750</td>\n",
       "    </tr>\n",
       "  </tbody>\n",
       "</table>\n",
       "</div>"
      ],
      "text/plain": [
       "           Normal_LR_Scores  Grid-search_scores  Weight_scores  Smote_scores  \\\n",
       "accuracy           0.803571            0.750000       0.482143      0.642857   \n",
       "precision          0.777778            0.666667       0.314286      0.409091   \n",
       "recall             0.437500            0.250000       0.687500      0.562500   \n",
       "f1                 0.560000            0.363636       0.431373      0.473684   \n",
       "auc                0.693750            0.600000       0.543750      0.618750   \n",
       "\n",
       "           Undersample_scores  \n",
       "accuracy             0.642857  \n",
       "precision            0.409091  \n",
       "recall               0.562500  \n",
       "f1                   0.473684  \n",
       "auc                  0.618750  "
      ]
     },
     "execution_count": 55,
     "metadata": {},
     "output_type": "execute_result"
    }
   ],
   "source": [
    "One_table = pd.concat([scores, df_grid_search, df_weight, df_smote, df_undersample ], axis = 1)\n",
    "One_table"
   ]
  },
  {
   "cell_type": "markdown",
   "id": "e26f6757",
   "metadata": {},
   "source": [
    "### Fitting a DecisionTree model without any regularization. Also no unbalanced data handling techniques used."
   ]
  },
  {
   "cell_type": "code",
   "execution_count": 56,
   "id": "4ceb8fbc",
   "metadata": {},
   "outputs": [],
   "source": [
    "normal_DT = DecisionTreeClassifier()\n",
    "normal_DT.fit(X_train, y_train)\n",
    "y_pred = normal_DT.predict(X_test)"
   ]
  },
  {
   "cell_type": "code",
   "execution_count": 57,
   "id": "631e1f51",
   "metadata": {},
   "outputs": [
    {
     "data": {
      "text/html": [
       "<div>\n",
       "<style scoped>\n",
       "    .dataframe tbody tr th:only-of-type {\n",
       "        vertical-align: middle;\n",
       "    }\n",
       "\n",
       "    .dataframe tbody tr th {\n",
       "        vertical-align: top;\n",
       "    }\n",
       "\n",
       "    .dataframe thead th {\n",
       "        text-align: right;\n",
       "    }\n",
       "</style>\n",
       "<table border=\"1\" class=\"dataframe\">\n",
       "  <thead>\n",
       "    <tr style=\"text-align: right;\">\n",
       "      <th></th>\n",
       "      <th>NormalDT_Score</th>\n",
       "    </tr>\n",
       "  </thead>\n",
       "  <tbody>\n",
       "    <tr>\n",
       "      <th>accuracy</th>\n",
       "      <td>0.642857</td>\n",
       "    </tr>\n",
       "    <tr>\n",
       "      <th>precision</th>\n",
       "      <td>0.388889</td>\n",
       "    </tr>\n",
       "    <tr>\n",
       "      <th>recall</th>\n",
       "      <td>0.437500</td>\n",
       "    </tr>\n",
       "    <tr>\n",
       "      <th>f1</th>\n",
       "      <td>0.411765</td>\n",
       "    </tr>\n",
       "    <tr>\n",
       "      <th>auc</th>\n",
       "      <td>0.581250</td>\n",
       "    </tr>\n",
       "  </tbody>\n",
       "</table>\n",
       "</div>"
      ],
      "text/plain": [
       "           NormalDT_Score\n",
       "accuracy         0.642857\n",
       "precision        0.388889\n",
       "recall           0.437500\n",
       "f1               0.411765\n",
       "auc              0.581250"
      ]
     },
     "execution_count": 57,
     "metadata": {},
     "output_type": "execute_result"
    }
   ],
   "source": [
    "eval_ = get_evaluation_scores(y_test, y_pred)\n",
    "df_normalDT = pd.DataFrame(eval_, index=['NormalDT_Score']).T\n",
    "df_normalDT"
   ]
  },
  {
   "cell_type": "markdown",
   "id": "d62acb6b",
   "metadata": {},
   "source": [
    "### Using GridSearch to search for best parameters for DecisionTree"
   ]
  },
  {
   "cell_type": "code",
   "execution_count": 58,
   "id": "978ece9f",
   "metadata": {},
   "outputs": [],
   "source": [
    "param_grid = {'criterion': ['gini','entropy'],\n",
    "              'max_depth': [5,10,15,20],\n",
    "              'min_samples_leaf': [1,2,5],\n",
    "             'class_weight': [None]}\n",
    "\n",
    "\n",
    "search = GridSearchCV(estimator = normal_DT, \n",
    "                      param_grid = param_grid,\n",
    "                      n_jobs = -1,\n",
    "                      scoring='accuracy')\n",
    "\n",
    "search.fit(X_train, y_train)\n",
    "y_pred = search.predict(X_test)"
   ]
  },
  {
   "cell_type": "code",
   "execution_count": 59,
   "id": "12689b3c",
   "metadata": {},
   "outputs": [
    {
     "data": {
      "text/plain": [
       "{'class_weight': None,\n",
       " 'criterion': 'gini',\n",
       " 'max_depth': 5,\n",
       " 'min_samples_leaf': 5}"
      ]
     },
     "execution_count": 59,
     "metadata": {},
     "output_type": "execute_result"
    }
   ],
   "source": [
    "search.best_params_"
   ]
  },
  {
   "cell_type": "code",
   "execution_count": 60,
   "id": "9dc7170d",
   "metadata": {},
   "outputs": [
    {
     "data": {
      "text/html": [
       "<div>\n",
       "<style scoped>\n",
       "    .dataframe tbody tr th:only-of-type {\n",
       "        vertical-align: middle;\n",
       "    }\n",
       "\n",
       "    .dataframe tbody tr th {\n",
       "        vertical-align: top;\n",
       "    }\n",
       "\n",
       "    .dataframe thead th {\n",
       "        text-align: right;\n",
       "    }\n",
       "</style>\n",
       "<table border=\"1\" class=\"dataframe\">\n",
       "  <thead>\n",
       "    <tr style=\"text-align: right;\">\n",
       "      <th></th>\n",
       "      <th>GridSearchDT_Score</th>\n",
       "    </tr>\n",
       "  </thead>\n",
       "  <tbody>\n",
       "    <tr>\n",
       "      <th>accuracy</th>\n",
       "      <td>0.660714</td>\n",
       "    </tr>\n",
       "    <tr>\n",
       "      <th>precision</th>\n",
       "      <td>0.400000</td>\n",
       "    </tr>\n",
       "    <tr>\n",
       "      <th>recall</th>\n",
       "      <td>0.375000</td>\n",
       "    </tr>\n",
       "    <tr>\n",
       "      <th>f1</th>\n",
       "      <td>0.387097</td>\n",
       "    </tr>\n",
       "    <tr>\n",
       "      <th>auc</th>\n",
       "      <td>0.575000</td>\n",
       "    </tr>\n",
       "  </tbody>\n",
       "</table>\n",
       "</div>"
      ],
      "text/plain": [
       "           GridSearchDT_Score\n",
       "accuracy             0.660714\n",
       "precision            0.400000\n",
       "recall               0.375000\n",
       "f1                   0.387097\n",
       "auc                  0.575000"
      ]
     },
     "execution_count": 60,
     "metadata": {},
     "output_type": "execute_result"
    }
   ],
   "source": [
    "eval_ = get_evaluation_scores(y_test, y_pred)\n",
    "GridSearchDT = pd.DataFrame(eval_, index=['GridSearchDT_Score']).T\n",
    "GridSearchDT"
   ]
  },
  {
   "cell_type": "markdown",
   "id": "671e1eb9",
   "metadata": {},
   "source": [
    "### First using the weighting strategy with the best parameters selected using gridsearch"
   ]
  },
  {
   "cell_type": "code",
   "execution_count": 61,
   "id": "081f3976",
   "metadata": {},
   "outputs": [],
   "source": [
    "#We use a grid search to find the optimal weight before building a model using the weights\n",
    "param_grid = {'criterion': ['entropy'],\n",
    "              'max_depth': [5],\n",
    "              'min_samples_leaf': [5],\n",
    "             'class_weight': [{0:0.1, 1:0.9}, {0:0.2, 1:0.8}, {0:0.3, 1:0.7}]\n",
    "             }\n",
    "\n",
    "\n",
    "search = GridSearchCV(estimator = normal_DT, \n",
    "                      param_grid = param_grid,\n",
    "                      n_jobs = -1,\n",
    "                      scoring='accuracy',\n",
    "                      cv = 5)\n",
    "\n",
    "search.fit(X_train, y_train)\n",
    "y_pred = search.predict(X_test)"
   ]
  },
  {
   "cell_type": "code",
   "execution_count": 62,
   "id": "33b6f121",
   "metadata": {},
   "outputs": [
    {
     "data": {
      "text/html": [
       "<div>\n",
       "<style scoped>\n",
       "    .dataframe tbody tr th:only-of-type {\n",
       "        vertical-align: middle;\n",
       "    }\n",
       "\n",
       "    .dataframe tbody tr th {\n",
       "        vertical-align: top;\n",
       "    }\n",
       "\n",
       "    .dataframe thead th {\n",
       "        text-align: right;\n",
       "    }\n",
       "</style>\n",
       "<table border=\"1\" class=\"dataframe\">\n",
       "  <thead>\n",
       "    <tr style=\"text-align: right;\">\n",
       "      <th></th>\n",
       "      <th>WeightedDT_Score</th>\n",
       "    </tr>\n",
       "  </thead>\n",
       "  <tbody>\n",
       "    <tr>\n",
       "      <th>accuracy</th>\n",
       "      <td>0.696429</td>\n",
       "    </tr>\n",
       "    <tr>\n",
       "      <th>precision</th>\n",
       "      <td>0.466667</td>\n",
       "    </tr>\n",
       "    <tr>\n",
       "      <th>recall</th>\n",
       "      <td>0.437500</td>\n",
       "    </tr>\n",
       "    <tr>\n",
       "      <th>f1</th>\n",
       "      <td>0.451613</td>\n",
       "    </tr>\n",
       "    <tr>\n",
       "      <th>auc</th>\n",
       "      <td>0.618750</td>\n",
       "    </tr>\n",
       "  </tbody>\n",
       "</table>\n",
       "</div>"
      ],
      "text/plain": [
       "           WeightedDT_Score\n",
       "accuracy           0.696429\n",
       "precision          0.466667\n",
       "recall             0.437500\n",
       "f1                 0.451613\n",
       "auc                0.618750"
      ]
     },
     "execution_count": 62,
     "metadata": {},
     "output_type": "execute_result"
    }
   ],
   "source": [
    "eval_ = get_evaluation_scores(y_test, y_pred)\n",
    "Weighted_DT = pd.DataFrame(eval_, index=['WeightedDT_Score']).T\n",
    "Weighted_DT"
   ]
  },
  {
   "cell_type": "code",
   "execution_count": 63,
   "id": "b7dc008b",
   "metadata": {},
   "outputs": [
    {
     "data": {
      "text/html": [
       "<style>#sk-container-id-2 {color: black;background-color: white;}#sk-container-id-2 pre{padding: 0;}#sk-container-id-2 div.sk-toggleable {background-color: white;}#sk-container-id-2 label.sk-toggleable__label {cursor: pointer;display: block;width: 100%;margin-bottom: 0;padding: 0.3em;box-sizing: border-box;text-align: center;}#sk-container-id-2 label.sk-toggleable__label-arrow:before {content: \"▸\";float: left;margin-right: 0.25em;color: #696969;}#sk-container-id-2 label.sk-toggleable__label-arrow:hover:before {color: black;}#sk-container-id-2 div.sk-estimator:hover label.sk-toggleable__label-arrow:before {color: black;}#sk-container-id-2 div.sk-toggleable__content {max-height: 0;max-width: 0;overflow: hidden;text-align: left;background-color: #f0f8ff;}#sk-container-id-2 div.sk-toggleable__content pre {margin: 0.2em;color: black;border-radius: 0.25em;background-color: #f0f8ff;}#sk-container-id-2 input.sk-toggleable__control:checked~div.sk-toggleable__content {max-height: 200px;max-width: 100%;overflow: auto;}#sk-container-id-2 input.sk-toggleable__control:checked~label.sk-toggleable__label-arrow:before {content: \"▾\";}#sk-container-id-2 div.sk-estimator input.sk-toggleable__control:checked~label.sk-toggleable__label {background-color: #d4ebff;}#sk-container-id-2 div.sk-label input.sk-toggleable__control:checked~label.sk-toggleable__label {background-color: #d4ebff;}#sk-container-id-2 input.sk-hidden--visually {border: 0;clip: rect(1px 1px 1px 1px);clip: rect(1px, 1px, 1px, 1px);height: 1px;margin: -1px;overflow: hidden;padding: 0;position: absolute;width: 1px;}#sk-container-id-2 div.sk-estimator {font-family: monospace;background-color: #f0f8ff;border: 1px dotted black;border-radius: 0.25em;box-sizing: border-box;margin-bottom: 0.5em;}#sk-container-id-2 div.sk-estimator:hover {background-color: #d4ebff;}#sk-container-id-2 div.sk-parallel-item::after {content: \"\";width: 100%;border-bottom: 1px solid gray;flex-grow: 1;}#sk-container-id-2 div.sk-label:hover label.sk-toggleable__label {background-color: #d4ebff;}#sk-container-id-2 div.sk-serial::before {content: \"\";position: absolute;border-left: 1px solid gray;box-sizing: border-box;top: 0;bottom: 0;left: 50%;z-index: 0;}#sk-container-id-2 div.sk-serial {display: flex;flex-direction: column;align-items: center;background-color: white;padding-right: 0.2em;padding-left: 0.2em;position: relative;}#sk-container-id-2 div.sk-item {position: relative;z-index: 1;}#sk-container-id-2 div.sk-parallel {display: flex;align-items: stretch;justify-content: center;background-color: white;position: relative;}#sk-container-id-2 div.sk-item::before, #sk-container-id-2 div.sk-parallel-item::before {content: \"\";position: absolute;border-left: 1px solid gray;box-sizing: border-box;top: 0;bottom: 0;left: 50%;z-index: -1;}#sk-container-id-2 div.sk-parallel-item {display: flex;flex-direction: column;z-index: 1;position: relative;background-color: white;}#sk-container-id-2 div.sk-parallel-item:first-child::after {align-self: flex-end;width: 50%;}#sk-container-id-2 div.sk-parallel-item:last-child::after {align-self: flex-start;width: 50%;}#sk-container-id-2 div.sk-parallel-item:only-child::after {width: 0;}#sk-container-id-2 div.sk-dashed-wrapped {border: 1px dashed gray;margin: 0 0.4em 0.5em 0.4em;box-sizing: border-box;padding-bottom: 0.4em;background-color: white;}#sk-container-id-2 div.sk-label label {font-family: monospace;font-weight: bold;display: inline-block;line-height: 1.2em;}#sk-container-id-2 div.sk-label-container {text-align: center;}#sk-container-id-2 div.sk-container {/* jupyter's `normalize.less` sets `[hidden] { display: none; }` but bootstrap.min.css set `[hidden] { display: none !important; }` so we also need the `!important` here to be able to override the default hidden behavior on the sphinx rendered scikit-learn.org. See: https://github.com/scikit-learn/scikit-learn/issues/21755 */display: inline-block !important;position: relative;}#sk-container-id-2 div.sk-text-repr-fallback {display: none;}</style><div id=\"sk-container-id-2\" class=\"sk-top-container\"><div class=\"sk-text-repr-fallback\"><pre>DecisionTreeClassifier(class_weight={0: 0.3, 1: 0.7}, criterion=&#x27;entropy&#x27;,\n",
       "                       max_depth=5, min_samples_leaf=5)</pre><b>In a Jupyter environment, please rerun this cell to show the HTML representation or trust the notebook. <br />On GitHub, the HTML representation is unable to render, please try loading this page with nbviewer.org.</b></div><div class=\"sk-container\" hidden><div class=\"sk-item\"><div class=\"sk-estimator sk-toggleable\"><input class=\"sk-toggleable__control sk-hidden--visually\" id=\"sk-estimator-id-2\" type=\"checkbox\" checked><label for=\"sk-estimator-id-2\" class=\"sk-toggleable__label sk-toggleable__label-arrow\">DecisionTreeClassifier</label><div class=\"sk-toggleable__content\"><pre>DecisionTreeClassifier(class_weight={0: 0.3, 1: 0.7}, criterion=&#x27;entropy&#x27;,\n",
       "                       max_depth=5, min_samples_leaf=5)</pre></div></div></div></div></div>"
      ],
      "text/plain": [
       "DecisionTreeClassifier(class_weight={0: 0.3, 1: 0.7}, criterion='entropy',\n",
       "                       max_depth=5, min_samples_leaf=5)"
      ]
     },
     "execution_count": 63,
     "metadata": {},
     "output_type": "execute_result"
    }
   ],
   "source": [
    "search.best_estimator_"
   ]
  },
  {
   "cell_type": "code",
   "execution_count": 64,
   "id": "5ea9d88f",
   "metadata": {},
   "outputs": [
    {
     "data": {
      "text/plain": [
       "0.6377777777777778"
      ]
     },
     "execution_count": 64,
     "metadata": {},
     "output_type": "execute_result"
    }
   ],
   "source": [
    "search.best_score_"
   ]
  },
  {
   "cell_type": "code",
   "execution_count": 65,
   "id": "7de400e6",
   "metadata": {},
   "outputs": [
    {
     "data": {
      "text/plain": [
       "{'class_weight': {0: 0.3, 1: 0.7},\n",
       " 'criterion': 'entropy',\n",
       " 'max_depth': 5,\n",
       " 'min_samples_leaf': 5}"
      ]
     },
     "execution_count": 65,
     "metadata": {},
     "output_type": "execute_result"
    }
   ],
   "source": [
    "search.best_params_"
   ]
  },
  {
   "cell_type": "markdown",
   "id": "e6631204",
   "metadata": {},
   "source": [
    "### Now we build a DeciosionTree Model with the optimal weights"
   ]
  },
  {
   "cell_type": "code",
   "execution_count": 66,
   "id": "c53b400f",
   "metadata": {},
   "outputs": [],
   "source": [
    "class_weight = {0:0.1, 1:0.9} # this was determined using a gridsearch. As show above.\n",
    "#All other parameters remains default\n",
    "\n",
    "'''WeightedDT = DecisionTreeClassifier(random_state=rs,\n",
    "                                   class_weight = class_weight,\n",
    "                                   criterion='entropy',\n",
    "                                    max_depth=15,\n",
    "                                   min_samples_leaf = 1)'''\n",
    "\n",
    "WeightedDT = DecisionTreeClassifier(random_state=rs,\n",
    "                                   class_weight = class_weight,\n",
    "                                   )\n",
    "\n",
    "WeightedDT.fit(X_train, y_train)\n",
    "y_pred = WeightedDT.predict(X_test)"
   ]
  },
  {
   "cell_type": "code",
   "execution_count": 67,
   "id": "e36f521d",
   "metadata": {},
   "outputs": [
    {
     "data": {
      "text/html": [
       "<div>\n",
       "<style scoped>\n",
       "    .dataframe tbody tr th:only-of-type {\n",
       "        vertical-align: middle;\n",
       "    }\n",
       "\n",
       "    .dataframe tbody tr th {\n",
       "        vertical-align: top;\n",
       "    }\n",
       "\n",
       "    .dataframe thead th {\n",
       "        text-align: right;\n",
       "    }\n",
       "</style>\n",
       "<table border=\"1\" class=\"dataframe\">\n",
       "  <thead>\n",
       "    <tr style=\"text-align: right;\">\n",
       "      <th></th>\n",
       "      <th>WeightedDT_Score</th>\n",
       "    </tr>\n",
       "  </thead>\n",
       "  <tbody>\n",
       "    <tr>\n",
       "      <th>accuracy</th>\n",
       "      <td>0.660714</td>\n",
       "    </tr>\n",
       "    <tr>\n",
       "      <th>precision</th>\n",
       "      <td>0.400000</td>\n",
       "    </tr>\n",
       "    <tr>\n",
       "      <th>recall</th>\n",
       "      <td>0.375000</td>\n",
       "    </tr>\n",
       "    <tr>\n",
       "      <th>f1</th>\n",
       "      <td>0.387097</td>\n",
       "    </tr>\n",
       "    <tr>\n",
       "      <th>auc</th>\n",
       "      <td>0.575000</td>\n",
       "    </tr>\n",
       "  </tbody>\n",
       "</table>\n",
       "</div>"
      ],
      "text/plain": [
       "           WeightedDT_Score\n",
       "accuracy           0.660714\n",
       "precision          0.400000\n",
       "recall             0.375000\n",
       "f1                 0.387097\n",
       "auc                0.575000"
      ]
     },
     "execution_count": 67,
     "metadata": {},
     "output_type": "execute_result"
    }
   ],
   "source": [
    "eval_ = get_evaluation_scores(y_test, y_pred)\n",
    "Weighted_DT = pd.DataFrame(eval_, index=['WeightedDT_Score']).T\n",
    "Weighted_DT"
   ]
  },
  {
   "cell_type": "markdown",
   "id": "d6e8c5ea",
   "metadata": {},
   "source": [
    "### Using the Synthetic Minority Oversampling Technique (SMOTE) "
   ]
  },
  {
   "cell_type": "code",
   "execution_count": 68,
   "id": "7dfadad9",
   "metadata": {},
   "outputs": [],
   "source": [
    "smote = SMOTE(random_state = rs)\n",
    "X_smote, y_smote = smote.fit_resample(X_train,y_train)"
   ]
  },
  {
   "cell_type": "code",
   "execution_count": 69,
   "id": "3ab9b34a",
   "metadata": {},
   "outputs": [
    {
     "data": {
      "text/plain": [
       "Class\n",
       "0        0.707581\n",
       "1        0.292419\n",
       "dtype: float64"
      ]
     },
     "execution_count": 69,
     "metadata": {},
     "output_type": "execute_result"
    }
   ],
   "source": [
    "y.value_counts(normalize = True)"
   ]
  },
  {
   "cell_type": "code",
   "execution_count": 70,
   "id": "5a62d023",
   "metadata": {},
   "outputs": [
    {
     "data": {
      "text/plain": [
       "Class\n",
       "0        0.5\n",
       "1        0.5\n",
       "dtype: float64"
      ]
     },
     "execution_count": 70,
     "metadata": {},
     "output_type": "execute_result"
    }
   ],
   "source": [
    "y_smote.value_counts(normalize = True)"
   ]
  },
  {
   "cell_type": "code",
   "execution_count": 71,
   "id": "923387c0",
   "metadata": {},
   "outputs": [],
   "source": [
    "SmoteDT = DecisionTreeClassifier(random_state=rs)\n",
    "\n",
    "SmoteDT.fit(X_smote, y_smote)\n",
    "y_pred = SmoteDT.predict(X_test)"
   ]
  },
  {
   "cell_type": "code",
   "execution_count": 72,
   "id": "01fcf34a",
   "metadata": {},
   "outputs": [
    {
     "data": {
      "text/html": [
       "<div>\n",
       "<style scoped>\n",
       "    .dataframe tbody tr th:only-of-type {\n",
       "        vertical-align: middle;\n",
       "    }\n",
       "\n",
       "    .dataframe tbody tr th {\n",
       "        vertical-align: top;\n",
       "    }\n",
       "\n",
       "    .dataframe thead th {\n",
       "        text-align: right;\n",
       "    }\n",
       "</style>\n",
       "<table border=\"1\" class=\"dataframe\">\n",
       "  <thead>\n",
       "    <tr style=\"text-align: right;\">\n",
       "      <th></th>\n",
       "      <th>SMOTE_DT_Score</th>\n",
       "    </tr>\n",
       "  </thead>\n",
       "  <tbody>\n",
       "    <tr>\n",
       "      <th>accuracy</th>\n",
       "      <td>0.696429</td>\n",
       "    </tr>\n",
       "    <tr>\n",
       "      <th>precision</th>\n",
       "      <td>0.461538</td>\n",
       "    </tr>\n",
       "    <tr>\n",
       "      <th>recall</th>\n",
       "      <td>0.375000</td>\n",
       "    </tr>\n",
       "    <tr>\n",
       "      <th>f1</th>\n",
       "      <td>0.413793</td>\n",
       "    </tr>\n",
       "    <tr>\n",
       "      <th>auc</th>\n",
       "      <td>0.600000</td>\n",
       "    </tr>\n",
       "  </tbody>\n",
       "</table>\n",
       "</div>"
      ],
      "text/plain": [
       "           SMOTE_DT_Score\n",
       "accuracy         0.696429\n",
       "precision        0.461538\n",
       "recall           0.375000\n",
       "f1               0.413793\n",
       "auc              0.600000"
      ]
     },
     "execution_count": 72,
     "metadata": {},
     "output_type": "execute_result"
    }
   ],
   "source": [
    "eval_ = get_evaluation_scores(y_test, y_pred)\n",
    "SMOTE_DT = pd.DataFrame(eval_, index=['SMOTE_DT_Score']).T\n",
    "SMOTE_DT"
   ]
  },
  {
   "cell_type": "markdown",
   "id": "29358f0a",
   "metadata": {},
   "source": [
    "### Now using the undersampling technique"
   ]
  },
  {
   "cell_type": "code",
   "execution_count": 73,
   "id": "999fe413",
   "metadata": {},
   "outputs": [],
   "source": [
    "Under_sample = RandomUnderSampler(random_state = rs)\n",
    "X_under, y_under = Under_sample.fit_resample(X_train, y_train)"
   ]
  },
  {
   "cell_type": "code",
   "execution_count": 74,
   "id": "2b8e1709",
   "metadata": {},
   "outputs": [
    {
     "data": {
      "text/plain": [
       "Class\n",
       "0        0.5\n",
       "1        0.5\n",
       "dtype: float64"
      ]
     },
     "execution_count": 74,
     "metadata": {},
     "output_type": "execute_result"
    }
   ],
   "source": [
    "y_under.value_counts(normalize = True)"
   ]
  },
  {
   "cell_type": "code",
   "execution_count": 75,
   "id": "7542f3a4",
   "metadata": {},
   "outputs": [],
   "source": [
    "UnderDT = DecisionTreeClassifier(random_state=rs)\n",
    "\n",
    "UnderDT.fit(X_under, y_under)\n",
    "y_pred = UnderDT.predict(X_test)"
   ]
  },
  {
   "cell_type": "code",
   "execution_count": 76,
   "id": "23278f05",
   "metadata": {},
   "outputs": [
    {
     "data": {
      "text/html": [
       "<div>\n",
       "<style scoped>\n",
       "    .dataframe tbody tr th:only-of-type {\n",
       "        vertical-align: middle;\n",
       "    }\n",
       "\n",
       "    .dataframe tbody tr th {\n",
       "        vertical-align: top;\n",
       "    }\n",
       "\n",
       "    .dataframe thead th {\n",
       "        text-align: right;\n",
       "    }\n",
       "</style>\n",
       "<table border=\"1\" class=\"dataframe\">\n",
       "  <thead>\n",
       "    <tr style=\"text-align: right;\">\n",
       "      <th></th>\n",
       "      <th>Under_DT_Score</th>\n",
       "    </tr>\n",
       "  </thead>\n",
       "  <tbody>\n",
       "    <tr>\n",
       "      <th>accuracy</th>\n",
       "      <td>0.482143</td>\n",
       "    </tr>\n",
       "    <tr>\n",
       "      <th>precision</th>\n",
       "      <td>0.275862</td>\n",
       "    </tr>\n",
       "    <tr>\n",
       "      <th>recall</th>\n",
       "      <td>0.500000</td>\n",
       "    </tr>\n",
       "    <tr>\n",
       "      <th>f1</th>\n",
       "      <td>0.355556</td>\n",
       "    </tr>\n",
       "    <tr>\n",
       "      <th>auc</th>\n",
       "      <td>0.487500</td>\n",
       "    </tr>\n",
       "  </tbody>\n",
       "</table>\n",
       "</div>"
      ],
      "text/plain": [
       "           Under_DT_Score\n",
       "accuracy         0.482143\n",
       "precision        0.275862\n",
       "recall           0.500000\n",
       "f1               0.355556\n",
       "auc              0.487500"
      ]
     },
     "execution_count": 76,
     "metadata": {},
     "output_type": "execute_result"
    }
   ],
   "source": [
    "eval_ = get_evaluation_scores(y_test, y_pred)\n",
    "Under_DT = pd.DataFrame(eval_, index=['Under_DT_Score']).T\n",
    "Under_DT"
   ]
  },
  {
   "cell_type": "markdown",
   "id": "8641bbde",
   "metadata": {},
   "source": [
    "## Now we concatenate the results from Normal DT, DT with gridsearchCV, DT with Weight, DT with Smote, and DT with Undersample"
   ]
  },
  {
   "cell_type": "code",
   "execution_count": 77,
   "id": "491d8db7",
   "metadata": {
    "scrolled": true
   },
   "outputs": [
    {
     "data": {
      "text/html": [
       "<div>\n",
       "<style scoped>\n",
       "    .dataframe tbody tr th:only-of-type {\n",
       "        vertical-align: middle;\n",
       "    }\n",
       "\n",
       "    .dataframe tbody tr th {\n",
       "        vertical-align: top;\n",
       "    }\n",
       "\n",
       "    .dataframe thead th {\n",
       "        text-align: right;\n",
       "    }\n",
       "</style>\n",
       "<table border=\"1\" class=\"dataframe\">\n",
       "  <thead>\n",
       "    <tr style=\"text-align: right;\">\n",
       "      <th></th>\n",
       "      <th>NormalDT_Score</th>\n",
       "      <th>GridSearchDT_Score</th>\n",
       "      <th>WeightedDT_Score</th>\n",
       "      <th>SMOTE_DT_Score</th>\n",
       "      <th>Under_DT_Score</th>\n",
       "    </tr>\n",
       "  </thead>\n",
       "  <tbody>\n",
       "    <tr>\n",
       "      <th>accuracy</th>\n",
       "      <td>0.642857</td>\n",
       "      <td>0.660714</td>\n",
       "      <td>0.660714</td>\n",
       "      <td>0.696429</td>\n",
       "      <td>0.482143</td>\n",
       "    </tr>\n",
       "    <tr>\n",
       "      <th>precision</th>\n",
       "      <td>0.388889</td>\n",
       "      <td>0.400000</td>\n",
       "      <td>0.400000</td>\n",
       "      <td>0.461538</td>\n",
       "      <td>0.275862</td>\n",
       "    </tr>\n",
       "    <tr>\n",
       "      <th>recall</th>\n",
       "      <td>0.437500</td>\n",
       "      <td>0.375000</td>\n",
       "      <td>0.375000</td>\n",
       "      <td>0.375000</td>\n",
       "      <td>0.500000</td>\n",
       "    </tr>\n",
       "    <tr>\n",
       "      <th>f1</th>\n",
       "      <td>0.411765</td>\n",
       "      <td>0.387097</td>\n",
       "      <td>0.387097</td>\n",
       "      <td>0.413793</td>\n",
       "      <td>0.355556</td>\n",
       "    </tr>\n",
       "    <tr>\n",
       "      <th>auc</th>\n",
       "      <td>0.581250</td>\n",
       "      <td>0.575000</td>\n",
       "      <td>0.575000</td>\n",
       "      <td>0.600000</td>\n",
       "      <td>0.487500</td>\n",
       "    </tr>\n",
       "  </tbody>\n",
       "</table>\n",
       "</div>"
      ],
      "text/plain": [
       "           NormalDT_Score  GridSearchDT_Score  WeightedDT_Score  \\\n",
       "accuracy         0.642857            0.660714          0.660714   \n",
       "precision        0.388889            0.400000          0.400000   \n",
       "recall           0.437500            0.375000          0.375000   \n",
       "f1               0.411765            0.387097          0.387097   \n",
       "auc              0.581250            0.575000          0.575000   \n",
       "\n",
       "           SMOTE_DT_Score  Under_DT_Score  \n",
       "accuracy         0.696429        0.482143  \n",
       "precision        0.461538        0.275862  \n",
       "recall           0.375000        0.500000  \n",
       "f1               0.413793        0.355556  \n",
       "auc              0.600000        0.487500  "
      ]
     },
     "execution_count": 77,
     "metadata": {},
     "output_type": "execute_result"
    }
   ],
   "source": [
    "GeneralTable = pd.concat([df_normalDT, GridSearchDT, Weighted_DT, SMOTE_DT, Under_DT], axis = 1)\n",
    "GeneralTable"
   ]
  },
  {
   "cell_type": "markdown",
   "id": "430f7729",
   "metadata": {},
   "source": [
    "### Fitting a RandomForest ensemble model without any regularization. Also no unbalanced data handling techniques used."
   ]
  },
  {
   "cell_type": "code",
   "execution_count": 78,
   "id": "2034fc67",
   "metadata": {},
   "outputs": [],
   "source": [
    "normal_RF =  RandomForestClassifier(random_state = rs)\n",
    "\n",
    "normal_RF.fit(X_train, y_train.values.ravel())\n",
    "y_pred = normal_RF.predict(X_test)"
   ]
  },
  {
   "cell_type": "code",
   "execution_count": 79,
   "id": "86c49485",
   "metadata": {},
   "outputs": [
    {
     "data": {
      "text/html": [
       "<div>\n",
       "<style scoped>\n",
       "    .dataframe tbody tr th:only-of-type {\n",
       "        vertical-align: middle;\n",
       "    }\n",
       "\n",
       "    .dataframe tbody tr th {\n",
       "        vertical-align: top;\n",
       "    }\n",
       "\n",
       "    .dataframe thead th {\n",
       "        text-align: right;\n",
       "    }\n",
       "</style>\n",
       "<table border=\"1\" class=\"dataframe\">\n",
       "  <thead>\n",
       "    <tr style=\"text-align: right;\">\n",
       "      <th></th>\n",
       "      <th>Normal_RF_Score</th>\n",
       "    </tr>\n",
       "  </thead>\n",
       "  <tbody>\n",
       "    <tr>\n",
       "      <th>accuracy</th>\n",
       "      <td>0.785714</td>\n",
       "    </tr>\n",
       "    <tr>\n",
       "      <th>precision</th>\n",
       "      <td>0.666667</td>\n",
       "    </tr>\n",
       "    <tr>\n",
       "      <th>recall</th>\n",
       "      <td>0.500000</td>\n",
       "    </tr>\n",
       "    <tr>\n",
       "      <th>f1</th>\n",
       "      <td>0.571429</td>\n",
       "    </tr>\n",
       "    <tr>\n",
       "      <th>auc</th>\n",
       "      <td>0.700000</td>\n",
       "    </tr>\n",
       "  </tbody>\n",
       "</table>\n",
       "</div>"
      ],
      "text/plain": [
       "           Normal_RF_Score\n",
       "accuracy          0.785714\n",
       "precision         0.666667\n",
       "recall            0.500000\n",
       "f1                0.571429\n",
       "auc               0.700000"
      ]
     },
     "execution_count": 79,
     "metadata": {},
     "output_type": "execute_result"
    }
   ],
   "source": [
    "eval_ = get_evaluation_scores(y_test, y_pred)\n",
    "Normal_RF = pd.DataFrame(eval_, index=['Normal_RF_Score']).T\n",
    "Normal_RF"
   ]
  },
  {
   "cell_type": "markdown",
   "id": "2bd656dd",
   "metadata": {},
   "source": [
    "### Using GridSearch to search for best parameters for RandomForest"
   ]
  },
  {
   "cell_type": "code",
   "execution_count": 80,
   "id": "b204cca7",
   "metadata": {},
   "outputs": [
    {
     "name": "stderr",
     "output_type": "stream",
     "text": [
      "C:\\Users\\ISUWA JEREMIAH\\AppData\\Roaming\\Python\\Python39\\site-packages\\sklearn\\ensemble\\_forest.py:424: FutureWarning: `max_features='auto'` has been deprecated in 1.1 and will be removed in 1.3. To keep the past behaviour, explicitly set `max_features='sqrt'` or remove this parameter as it is also the default value for RandomForestClassifiers and ExtraTreesClassifiers.\n",
      "  warn(\n"
     ]
    }
   ],
   "source": [
    "param_grid = {'n_estimators': [2*n+1 for n in range(20)], #uses odd numbers alone\n",
    "             'max_depth' : [2*n+1 for n in range(10) ],\n",
    "             'max_features':[\"auto\", \"sqrt\", \"log2\"],\n",
    "             'class_weight': [None]}\n",
    "\n",
    "search = GridSearchCV(estimator = normal_RF, \n",
    "                      param_grid = param_grid,\n",
    "                      n_jobs = -1,\n",
    "                      scoring='accuracy')\n",
    "\n",
    "search.fit(X_train, y_train.values.ravel())\n",
    "y_pred = search.predict(X_test)"
   ]
  },
  {
   "cell_type": "code",
   "execution_count": 81,
   "id": "e212ab4f",
   "metadata": {},
   "outputs": [
    {
     "data": {
      "text/plain": [
       "{'class_weight': None,\n",
       " 'max_depth': 5,\n",
       " 'max_features': 'auto',\n",
       " 'n_estimators': 11}"
      ]
     },
     "execution_count": 81,
     "metadata": {},
     "output_type": "execute_result"
    }
   ],
   "source": [
    "search.best_params_"
   ]
  },
  {
   "cell_type": "code",
   "execution_count": 82,
   "id": "9ce5ad13",
   "metadata": {},
   "outputs": [
    {
     "data": {
      "text/html": [
       "<div>\n",
       "<style scoped>\n",
       "    .dataframe tbody tr th:only-of-type {\n",
       "        vertical-align: middle;\n",
       "    }\n",
       "\n",
       "    .dataframe tbody tr th {\n",
       "        vertical-align: top;\n",
       "    }\n",
       "\n",
       "    .dataframe thead th {\n",
       "        text-align: right;\n",
       "    }\n",
       "</style>\n",
       "<table border=\"1\" class=\"dataframe\">\n",
       "  <thead>\n",
       "    <tr style=\"text-align: right;\">\n",
       "      <th></th>\n",
       "      <th>GridSearch_RF_Score</th>\n",
       "    </tr>\n",
       "  </thead>\n",
       "  <tbody>\n",
       "    <tr>\n",
       "      <th>accuracy</th>\n",
       "      <td>0.785714</td>\n",
       "    </tr>\n",
       "    <tr>\n",
       "      <th>precision</th>\n",
       "      <td>0.666667</td>\n",
       "    </tr>\n",
       "    <tr>\n",
       "      <th>recall</th>\n",
       "      <td>0.500000</td>\n",
       "    </tr>\n",
       "    <tr>\n",
       "      <th>f1</th>\n",
       "      <td>0.571429</td>\n",
       "    </tr>\n",
       "    <tr>\n",
       "      <th>auc</th>\n",
       "      <td>0.700000</td>\n",
       "    </tr>\n",
       "  </tbody>\n",
       "</table>\n",
       "</div>"
      ],
      "text/plain": [
       "           GridSearch_RF_Score\n",
       "accuracy              0.785714\n",
       "precision             0.666667\n",
       "recall                0.500000\n",
       "f1                    0.571429\n",
       "auc                   0.700000"
      ]
     },
     "execution_count": 82,
     "metadata": {},
     "output_type": "execute_result"
    }
   ],
   "source": [
    "eval_ = get_evaluation_scores(y_test, y_pred)\n",
    "GridSearch_RF = pd.DataFrame(eval_, index=['GridSearch_RF_Score']).T\n",
    "GridSearch_RF"
   ]
  },
  {
   "cell_type": "markdown",
   "id": "04d25547",
   "metadata": {},
   "source": [
    "### First using the weighting strategy with the best parameters selected using gridsearch"
   ]
  },
  {
   "cell_type": "code",
   "execution_count": 83,
   "id": "5d2024b1",
   "metadata": {},
   "outputs": [],
   "source": [
    "#We use a grid search to find the optimal weight before building a model using the weights\n",
    "param_grid = {'n_estimators': [11],\n",
    "              'max_depth': [5],\n",
    "              'min_samples_leaf': [5],\n",
    "             'class_weight': [{0:0.1, 1:0.9}, {0:0.2, 1:0.8}, {0:0.3, 1:0.7}],\n",
    "              'max_features': ['sqrt']\n",
    "             }\n",
    "\n",
    "\n",
    "search = GridSearchCV(estimator = normal_RF, \n",
    "                      param_grid = param_grid,\n",
    "                      n_jobs = -1,\n",
    "                      scoring='accuracy',\n",
    "                      cv = 5)\n",
    "\n",
    "search.fit(X_train, y_train.values.ravel())\n",
    "y_pred = search.predict(X_test)"
   ]
  },
  {
   "cell_type": "code",
   "execution_count": 84,
   "id": "558c2e01",
   "metadata": {},
   "outputs": [
    {
     "data": {
      "text/html": [
       "<div>\n",
       "<style scoped>\n",
       "    .dataframe tbody tr th:only-of-type {\n",
       "        vertical-align: middle;\n",
       "    }\n",
       "\n",
       "    .dataframe tbody tr th {\n",
       "        vertical-align: top;\n",
       "    }\n",
       "\n",
       "    .dataframe thead th {\n",
       "        text-align: right;\n",
       "    }\n",
       "</style>\n",
       "<table border=\"1\" class=\"dataframe\">\n",
       "  <thead>\n",
       "    <tr style=\"text-align: right;\">\n",
       "      <th></th>\n",
       "      <th>Weighted_RF_Score</th>\n",
       "    </tr>\n",
       "  </thead>\n",
       "  <tbody>\n",
       "    <tr>\n",
       "      <th>accuracy</th>\n",
       "      <td>0.678571</td>\n",
       "    </tr>\n",
       "    <tr>\n",
       "      <th>precision</th>\n",
       "      <td>0.444444</td>\n",
       "    </tr>\n",
       "    <tr>\n",
       "      <th>recall</th>\n",
       "      <td>0.500000</td>\n",
       "    </tr>\n",
       "    <tr>\n",
       "      <th>f1</th>\n",
       "      <td>0.470588</td>\n",
       "    </tr>\n",
       "    <tr>\n",
       "      <th>auc</th>\n",
       "      <td>0.625000</td>\n",
       "    </tr>\n",
       "  </tbody>\n",
       "</table>\n",
       "</div>"
      ],
      "text/plain": [
       "           Weighted_RF_Score\n",
       "accuracy            0.678571\n",
       "precision           0.444444\n",
       "recall              0.500000\n",
       "f1                  0.470588\n",
       "auc                 0.625000"
      ]
     },
     "execution_count": 84,
     "metadata": {},
     "output_type": "execute_result"
    }
   ],
   "source": [
    "eval_ = get_evaluation_scores(y_test, y_pred)\n",
    "Weighted_RF = pd.DataFrame(eval_, index=['Weighted_RF_Score']).T\n",
    "Weighted_RF"
   ]
  },
  {
   "cell_type": "code",
   "execution_count": 85,
   "id": "b713139d",
   "metadata": {},
   "outputs": [
    {
     "data": {
      "text/plain": [
       "{'class_weight': {0: 0.3, 1: 0.7},\n",
       " 'max_depth': 5,\n",
       " 'max_features': 'sqrt',\n",
       " 'min_samples_leaf': 5,\n",
       " 'n_estimators': 11}"
      ]
     },
     "execution_count": 85,
     "metadata": {},
     "output_type": "execute_result"
    }
   ],
   "source": [
    "search.best_params_"
   ]
  },
  {
   "cell_type": "markdown",
   "id": "3fb7d749",
   "metadata": {},
   "source": [
    "### Now we build a RandomForest Model with the optimal weights"
   ]
  },
  {
   "cell_type": "code",
   "execution_count": 86,
   "id": "123eb251",
   "metadata": {},
   "outputs": [],
   "source": [
    "class_weight = {0: 0.3, 1: 0.7}\n",
    "\n",
    "Weighted_RF =  RandomForestClassifier(random_state = rs,\n",
    "                                   class_weight = class_weight)\n",
    "\n",
    "Weighted_RF.fit(X_train, y_train.values.ravel())\n",
    "y_pred = Weighted_RF.predict(X_test)"
   ]
  },
  {
   "cell_type": "code",
   "execution_count": 87,
   "id": "2cf23a2d",
   "metadata": {},
   "outputs": [
    {
     "data": {
      "text/html": [
       "<div>\n",
       "<style scoped>\n",
       "    .dataframe tbody tr th:only-of-type {\n",
       "        vertical-align: middle;\n",
       "    }\n",
       "\n",
       "    .dataframe tbody tr th {\n",
       "        vertical-align: top;\n",
       "    }\n",
       "\n",
       "    .dataframe thead th {\n",
       "        text-align: right;\n",
       "    }\n",
       "</style>\n",
       "<table border=\"1\" class=\"dataframe\">\n",
       "  <thead>\n",
       "    <tr style=\"text-align: right;\">\n",
       "      <th></th>\n",
       "      <th>Weighted_RF_Score</th>\n",
       "    </tr>\n",
       "  </thead>\n",
       "  <tbody>\n",
       "    <tr>\n",
       "      <th>accuracy</th>\n",
       "      <td>0.785714</td>\n",
       "    </tr>\n",
       "    <tr>\n",
       "      <th>precision</th>\n",
       "      <td>0.700000</td>\n",
       "    </tr>\n",
       "    <tr>\n",
       "      <th>recall</th>\n",
       "      <td>0.437500</td>\n",
       "    </tr>\n",
       "    <tr>\n",
       "      <th>f1</th>\n",
       "      <td>0.538462</td>\n",
       "    </tr>\n",
       "    <tr>\n",
       "      <th>auc</th>\n",
       "      <td>0.681250</td>\n",
       "    </tr>\n",
       "  </tbody>\n",
       "</table>\n",
       "</div>"
      ],
      "text/plain": [
       "           Weighted_RF_Score\n",
       "accuracy            0.785714\n",
       "precision           0.700000\n",
       "recall              0.437500\n",
       "f1                  0.538462\n",
       "auc                 0.681250"
      ]
     },
     "execution_count": 87,
     "metadata": {},
     "output_type": "execute_result"
    }
   ],
   "source": [
    "eval_ = get_evaluation_scores(y_test, y_pred)\n",
    "Weighted_RF = pd.DataFrame(eval_, index=['Weighted_RF_Score']).T\n",
    "Weighted_RF"
   ]
  },
  {
   "cell_type": "markdown",
   "id": "b32835f2",
   "metadata": {},
   "source": [
    "### Using the Synthetic Minority Oversampling Technique (SMOTE) "
   ]
  },
  {
   "cell_type": "code",
   "execution_count": 88,
   "id": "220f1d21",
   "metadata": {},
   "outputs": [],
   "source": [
    "Smote_RF = RandomForestClassifier(random_state=rs)\n",
    "\n",
    "Smote_RF.fit(X_smote, y_smote.values.ravel())\n",
    "y_pred = Smote_RF.predict(X_test)"
   ]
  },
  {
   "cell_type": "code",
   "execution_count": 89,
   "id": "b8be89a1",
   "metadata": {},
   "outputs": [
    {
     "data": {
      "text/html": [
       "<div>\n",
       "<style scoped>\n",
       "    .dataframe tbody tr th:only-of-type {\n",
       "        vertical-align: middle;\n",
       "    }\n",
       "\n",
       "    .dataframe tbody tr th {\n",
       "        vertical-align: top;\n",
       "    }\n",
       "\n",
       "    .dataframe thead th {\n",
       "        text-align: right;\n",
       "    }\n",
       "</style>\n",
       "<table border=\"1\" class=\"dataframe\">\n",
       "  <thead>\n",
       "    <tr style=\"text-align: right;\">\n",
       "      <th></th>\n",
       "      <th>SMOTE_RF_Score</th>\n",
       "    </tr>\n",
       "  </thead>\n",
       "  <tbody>\n",
       "    <tr>\n",
       "      <th>accuracy</th>\n",
       "      <td>0.696429</td>\n",
       "    </tr>\n",
       "    <tr>\n",
       "      <th>precision</th>\n",
       "      <td>0.466667</td>\n",
       "    </tr>\n",
       "    <tr>\n",
       "      <th>recall</th>\n",
       "      <td>0.437500</td>\n",
       "    </tr>\n",
       "    <tr>\n",
       "      <th>f1</th>\n",
       "      <td>0.451613</td>\n",
       "    </tr>\n",
       "    <tr>\n",
       "      <th>auc</th>\n",
       "      <td>0.618750</td>\n",
       "    </tr>\n",
       "  </tbody>\n",
       "</table>\n",
       "</div>"
      ],
      "text/plain": [
       "           SMOTE_RF_Score\n",
       "accuracy         0.696429\n",
       "precision        0.466667\n",
       "recall           0.437500\n",
       "f1               0.451613\n",
       "auc              0.618750"
      ]
     },
     "execution_count": 89,
     "metadata": {},
     "output_type": "execute_result"
    }
   ],
   "source": [
    "eval_ = get_evaluation_scores(y_test, y_pred)\n",
    "SMOTE_RF = pd.DataFrame(eval_, index=['SMOTE_RF_Score']).T\n",
    "SMOTE_RF"
   ]
  },
  {
   "cell_type": "markdown",
   "id": "3a470e36",
   "metadata": {},
   "source": [
    "### Now using the undersampling technique"
   ]
  },
  {
   "cell_type": "code",
   "execution_count": 90,
   "id": "afd0bbc3",
   "metadata": {},
   "outputs": [],
   "source": [
    "UnderRF = RandomForestClassifier(random_state=rs)\n",
    "\n",
    "UnderRF.fit(X_under, y_under.values.ravel())\n",
    "y_pred = UnderRF.predict(X_test)"
   ]
  },
  {
   "cell_type": "code",
   "execution_count": 91,
   "id": "c1cb0c21",
   "metadata": {},
   "outputs": [
    {
     "data": {
      "text/html": [
       "<div>\n",
       "<style scoped>\n",
       "    .dataframe tbody tr th:only-of-type {\n",
       "        vertical-align: middle;\n",
       "    }\n",
       "\n",
       "    .dataframe tbody tr th {\n",
       "        vertical-align: top;\n",
       "    }\n",
       "\n",
       "    .dataframe thead th {\n",
       "        text-align: right;\n",
       "    }\n",
       "</style>\n",
       "<table border=\"1\" class=\"dataframe\">\n",
       "  <thead>\n",
       "    <tr style=\"text-align: right;\">\n",
       "      <th></th>\n",
       "      <th>Under_RF_Score</th>\n",
       "    </tr>\n",
       "  </thead>\n",
       "  <tbody>\n",
       "    <tr>\n",
       "      <th>accuracy</th>\n",
       "      <td>0.660714</td>\n",
       "    </tr>\n",
       "    <tr>\n",
       "      <th>precision</th>\n",
       "      <td>0.434783</td>\n",
       "    </tr>\n",
       "    <tr>\n",
       "      <th>recall</th>\n",
       "      <td>0.625000</td>\n",
       "    </tr>\n",
       "    <tr>\n",
       "      <th>f1</th>\n",
       "      <td>0.512821</td>\n",
       "    </tr>\n",
       "    <tr>\n",
       "      <th>auc</th>\n",
       "      <td>0.650000</td>\n",
       "    </tr>\n",
       "  </tbody>\n",
       "</table>\n",
       "</div>"
      ],
      "text/plain": [
       "           Under_RF_Score\n",
       "accuracy         0.660714\n",
       "precision        0.434783\n",
       "recall           0.625000\n",
       "f1               0.512821\n",
       "auc              0.650000"
      ]
     },
     "execution_count": 91,
     "metadata": {},
     "output_type": "execute_result"
    }
   ],
   "source": [
    "eval_ = get_evaluation_scores(y_test, y_pred)\n",
    "Under_RF = pd.DataFrame(eval_, index=['Under_RF_Score']).T\n",
    "Under_RF"
   ]
  },
  {
   "cell_type": "markdown",
   "id": "a5fe29a9",
   "metadata": {},
   "source": [
    "## Now we concatenate the results from Normal RF, RF with gridsearchCV, RF with Weight, RF with Smote, and RF with Undersample"
   ]
  },
  {
   "cell_type": "code",
   "execution_count": 92,
   "id": "b92fb783",
   "metadata": {},
   "outputs": [
    {
     "data": {
      "text/html": [
       "<div>\n",
       "<style scoped>\n",
       "    .dataframe tbody tr th:only-of-type {\n",
       "        vertical-align: middle;\n",
       "    }\n",
       "\n",
       "    .dataframe tbody tr th {\n",
       "        vertical-align: top;\n",
       "    }\n",
       "\n",
       "    .dataframe thead th {\n",
       "        text-align: right;\n",
       "    }\n",
       "</style>\n",
       "<table border=\"1\" class=\"dataframe\">\n",
       "  <thead>\n",
       "    <tr style=\"text-align: right;\">\n",
       "      <th></th>\n",
       "      <th>Normal_RF_Score</th>\n",
       "      <th>GridSearch_RF_Score</th>\n",
       "      <th>Weighted_RF_Score</th>\n",
       "      <th>SMOTE_RF_Score</th>\n",
       "      <th>Under_RF_Score</th>\n",
       "    </tr>\n",
       "  </thead>\n",
       "  <tbody>\n",
       "    <tr>\n",
       "      <th>accuracy</th>\n",
       "      <td>0.785714</td>\n",
       "      <td>0.785714</td>\n",
       "      <td>0.785714</td>\n",
       "      <td>0.696429</td>\n",
       "      <td>0.660714</td>\n",
       "    </tr>\n",
       "    <tr>\n",
       "      <th>precision</th>\n",
       "      <td>0.666667</td>\n",
       "      <td>0.666667</td>\n",
       "      <td>0.700000</td>\n",
       "      <td>0.466667</td>\n",
       "      <td>0.434783</td>\n",
       "    </tr>\n",
       "    <tr>\n",
       "      <th>recall</th>\n",
       "      <td>0.500000</td>\n",
       "      <td>0.500000</td>\n",
       "      <td>0.437500</td>\n",
       "      <td>0.437500</td>\n",
       "      <td>0.625000</td>\n",
       "    </tr>\n",
       "    <tr>\n",
       "      <th>f1</th>\n",
       "      <td>0.571429</td>\n",
       "      <td>0.571429</td>\n",
       "      <td>0.538462</td>\n",
       "      <td>0.451613</td>\n",
       "      <td>0.512821</td>\n",
       "    </tr>\n",
       "    <tr>\n",
       "      <th>auc</th>\n",
       "      <td>0.700000</td>\n",
       "      <td>0.700000</td>\n",
       "      <td>0.681250</td>\n",
       "      <td>0.618750</td>\n",
       "      <td>0.650000</td>\n",
       "    </tr>\n",
       "  </tbody>\n",
       "</table>\n",
       "</div>"
      ],
      "text/plain": [
       "           Normal_RF_Score  GridSearch_RF_Score  Weighted_RF_Score  \\\n",
       "accuracy          0.785714             0.785714           0.785714   \n",
       "precision         0.666667             0.666667           0.700000   \n",
       "recall            0.500000             0.500000           0.437500   \n",
       "f1                0.571429             0.571429           0.538462   \n",
       "auc               0.700000             0.700000           0.681250   \n",
       "\n",
       "           SMOTE_RF_Score  Under_RF_Score  \n",
       "accuracy         0.696429        0.660714  \n",
       "precision        0.466667        0.434783  \n",
       "recall           0.437500        0.625000  \n",
       "f1               0.451613        0.512821  \n",
       "auc              0.618750        0.650000  "
      ]
     },
     "execution_count": 92,
     "metadata": {},
     "output_type": "execute_result"
    }
   ],
   "source": [
    "General_Table = pd.concat([Normal_RF,GridSearch_RF,Weighted_RF,SMOTE_RF,Under_RF], axis = 1)\n",
    "General_Table"
   ]
  },
  {
   "cell_type": "markdown",
   "id": "9a2b1d29",
   "metadata": {},
   "source": [
    "## Finally, we employ the StackingClassifier for our trained models. We select from each category, the best model"
   ]
  },
  {
   "cell_type": "markdown",
   "id": "b79da8a9",
   "metadata": {},
   "source": [
    "### The normal LR, DT & RF consistently acheived best result in all categories. Therefore, we use them in this section. SVC is used as the meta classifier"
   ]
  },
  {
   "cell_type": "code",
   "execution_count": 93,
   "id": "178fd8b5",
   "metadata": {},
   "outputs": [],
   "source": [
    "'''estimators = [('LR', normal_lr),\n",
    "              ('DT', df_normalDT),\n",
    "              ('RF', Normal_RF)] '''\n",
    "\n",
    "\n",
    "estimators = [('LR', LogisticRegression(solver = 'liblinear')),\n",
    "              ('DT', DecisionTreeClassifier()),\n",
    "              ('RF', RandomForestClassifier(random_state = rs))]\n",
    "\n",
    "\n",
    "final_estimator = SVC(random_state = 42)"
   ]
  },
  {
   "cell_type": "code",
   "execution_count": 94,
   "id": "a62d4c32",
   "metadata": {},
   "outputs": [
    {
     "data": {
      "text/plain": [
       "\"param_grid = {'DT__max_depth': [None],\\n              'DT__random_state':[None],\\n              }\""
      ]
     },
     "execution_count": 94,
     "metadata": {},
     "output_type": "execute_result"
    }
   ],
   "source": [
    "'''param_grid = {'DT__max_depth': [None],\n",
    "              'DT__random_state':[None],\n",
    "              }'''"
   ]
  },
  {
   "cell_type": "code",
   "execution_count": 95,
   "id": "dc0e5a91",
   "metadata": {},
   "outputs": [],
   "source": [
    "from sklearn.ensemble import VotingClassifier\n",
    "clf = StackingClassifier(estimators = estimators, final_estimator = final_estimator)\n",
    "#VC = VotingClassifier(estimators, voting = 'soft')"
   ]
  },
  {
   "cell_type": "code",
   "execution_count": 96,
   "id": "1555b23c",
   "metadata": {},
   "outputs": [],
   "source": [
    "clf.fit(X_train, y_train)\n",
    "y_pred = clf.predict(X_test)"
   ]
  },
  {
   "cell_type": "code",
   "execution_count": 97,
   "id": "cdba6b3d",
   "metadata": {},
   "outputs": [
    {
     "data": {
      "text/html": [
       "<div>\n",
       "<style scoped>\n",
       "    .dataframe tbody tr th:only-of-type {\n",
       "        vertical-align: middle;\n",
       "    }\n",
       "\n",
       "    .dataframe tbody tr th {\n",
       "        vertical-align: top;\n",
       "    }\n",
       "\n",
       "    .dataframe thead th {\n",
       "        text-align: right;\n",
       "    }\n",
       "</style>\n",
       "<table border=\"1\" class=\"dataframe\">\n",
       "  <thead>\n",
       "    <tr style=\"text-align: right;\">\n",
       "      <th></th>\n",
       "      <th>StackingClassifier_Score</th>\n",
       "    </tr>\n",
       "  </thead>\n",
       "  <tbody>\n",
       "    <tr>\n",
       "      <th>accuracy</th>\n",
       "      <td>0.767857</td>\n",
       "    </tr>\n",
       "    <tr>\n",
       "      <th>precision</th>\n",
       "      <td>0.714286</td>\n",
       "    </tr>\n",
       "    <tr>\n",
       "      <th>recall</th>\n",
       "      <td>0.312500</td>\n",
       "    </tr>\n",
       "    <tr>\n",
       "      <th>f1</th>\n",
       "      <td>0.434783</td>\n",
       "    </tr>\n",
       "    <tr>\n",
       "      <th>auc</th>\n",
       "      <td>0.631250</td>\n",
       "    </tr>\n",
       "  </tbody>\n",
       "</table>\n",
       "</div>"
      ],
      "text/plain": [
       "           StackingClassifier_Score\n",
       "accuracy                   0.767857\n",
       "precision                  0.714286\n",
       "recall                     0.312500\n",
       "f1                         0.434783\n",
       "auc                        0.631250"
      ]
     },
     "execution_count": 97,
     "metadata": {},
     "output_type": "execute_result"
    }
   ],
   "source": [
    "eval_ = get_evaluation_scores(y_test, y_pred)\n",
    "Under_RF = pd.DataFrame(eval_, index=['StackingClassifier_Score']).T\n",
    "Under_RF"
   ]
  },
  {
   "cell_type": "markdown",
   "id": "143ea512",
   "metadata": {},
   "source": [
    "### Lets demonstrate using the default random forest as a black_box model to check for feature importance"
   ]
  },
  {
   "cell_type": "code",
   "execution_count": 98,
   "id": "34d0064b",
   "metadata": {},
   "outputs": [
    {
     "data": {
      "text/html": [
       "<style>#sk-container-id-3 {color: black;background-color: white;}#sk-container-id-3 pre{padding: 0;}#sk-container-id-3 div.sk-toggleable {background-color: white;}#sk-container-id-3 label.sk-toggleable__label {cursor: pointer;display: block;width: 100%;margin-bottom: 0;padding: 0.3em;box-sizing: border-box;text-align: center;}#sk-container-id-3 label.sk-toggleable__label-arrow:before {content: \"▸\";float: left;margin-right: 0.25em;color: #696969;}#sk-container-id-3 label.sk-toggleable__label-arrow:hover:before {color: black;}#sk-container-id-3 div.sk-estimator:hover label.sk-toggleable__label-arrow:before {color: black;}#sk-container-id-3 div.sk-toggleable__content {max-height: 0;max-width: 0;overflow: hidden;text-align: left;background-color: #f0f8ff;}#sk-container-id-3 div.sk-toggleable__content pre {margin: 0.2em;color: black;border-radius: 0.25em;background-color: #f0f8ff;}#sk-container-id-3 input.sk-toggleable__control:checked~div.sk-toggleable__content {max-height: 200px;max-width: 100%;overflow: auto;}#sk-container-id-3 input.sk-toggleable__control:checked~label.sk-toggleable__label-arrow:before {content: \"▾\";}#sk-container-id-3 div.sk-estimator input.sk-toggleable__control:checked~label.sk-toggleable__label {background-color: #d4ebff;}#sk-container-id-3 div.sk-label input.sk-toggleable__control:checked~label.sk-toggleable__label {background-color: #d4ebff;}#sk-container-id-3 input.sk-hidden--visually {border: 0;clip: rect(1px 1px 1px 1px);clip: rect(1px, 1px, 1px, 1px);height: 1px;margin: -1px;overflow: hidden;padding: 0;position: absolute;width: 1px;}#sk-container-id-3 div.sk-estimator {font-family: monospace;background-color: #f0f8ff;border: 1px dotted black;border-radius: 0.25em;box-sizing: border-box;margin-bottom: 0.5em;}#sk-container-id-3 div.sk-estimator:hover {background-color: #d4ebff;}#sk-container-id-3 div.sk-parallel-item::after {content: \"\";width: 100%;border-bottom: 1px solid gray;flex-grow: 1;}#sk-container-id-3 div.sk-label:hover label.sk-toggleable__label {background-color: #d4ebff;}#sk-container-id-3 div.sk-serial::before {content: \"\";position: absolute;border-left: 1px solid gray;box-sizing: border-box;top: 0;bottom: 0;left: 50%;z-index: 0;}#sk-container-id-3 div.sk-serial {display: flex;flex-direction: column;align-items: center;background-color: white;padding-right: 0.2em;padding-left: 0.2em;position: relative;}#sk-container-id-3 div.sk-item {position: relative;z-index: 1;}#sk-container-id-3 div.sk-parallel {display: flex;align-items: stretch;justify-content: center;background-color: white;position: relative;}#sk-container-id-3 div.sk-item::before, #sk-container-id-3 div.sk-parallel-item::before {content: \"\";position: absolute;border-left: 1px solid gray;box-sizing: border-box;top: 0;bottom: 0;left: 50%;z-index: -1;}#sk-container-id-3 div.sk-parallel-item {display: flex;flex-direction: column;z-index: 1;position: relative;background-color: white;}#sk-container-id-3 div.sk-parallel-item:first-child::after {align-self: flex-end;width: 50%;}#sk-container-id-3 div.sk-parallel-item:last-child::after {align-self: flex-start;width: 50%;}#sk-container-id-3 div.sk-parallel-item:only-child::after {width: 0;}#sk-container-id-3 div.sk-dashed-wrapped {border: 1px dashed gray;margin: 0 0.4em 0.5em 0.4em;box-sizing: border-box;padding-bottom: 0.4em;background-color: white;}#sk-container-id-3 div.sk-label label {font-family: monospace;font-weight: bold;display: inline-block;line-height: 1.2em;}#sk-container-id-3 div.sk-label-container {text-align: center;}#sk-container-id-3 div.sk-container {/* jupyter's `normalize.less` sets `[hidden] { display: none; }` but bootstrap.min.css set `[hidden] { display: none !important; }` so we also need the `!important` here to be able to override the default hidden behavior on the sphinx rendered scikit-learn.org. See: https://github.com/scikit-learn/scikit-learn/issues/21755 */display: inline-block !important;position: relative;}#sk-container-id-3 div.sk-text-repr-fallback {display: none;}</style><div id=\"sk-container-id-3\" class=\"sk-top-container\"><div class=\"sk-text-repr-fallback\"><pre>RandomForestClassifier(random_state=42)</pre><b>In a Jupyter environment, please rerun this cell to show the HTML representation or trust the notebook. <br />On GitHub, the HTML representation is unable to render, please try loading this page with nbviewer.org.</b></div><div class=\"sk-container\" hidden><div class=\"sk-item\"><div class=\"sk-estimator sk-toggleable\"><input class=\"sk-toggleable__control sk-hidden--visually\" id=\"sk-estimator-id-3\" type=\"checkbox\" checked><label for=\"sk-estimator-id-3\" class=\"sk-toggleable__label sk-toggleable__label-arrow\">RandomForestClassifier</label><div class=\"sk-toggleable__content\"><pre>RandomForestClassifier(random_state=42)</pre></div></div></div></div></div>"
      ],
      "text/plain": [
       "RandomForestClassifier(random_state=42)"
      ]
     },
     "execution_count": 98,
     "metadata": {},
     "output_type": "execute_result"
    }
   ],
   "source": [
    "'''normal_RF =  RandomForestClassifier(random_state = rs)\n",
    "\n",
    "normal_RF.fit(X_train, y_train.values.ravel())\n",
    "y_pred = normal_RF.predict(X_test)\n",
    "'''\n",
    "\n",
    "normal_RF"
   ]
  },
  {
   "cell_type": "markdown",
   "id": "dd168da9",
   "metadata": {},
   "source": [
    "####  Permutation Feature Importance"
   ]
  },
  {
   "cell_type": "code",
   "execution_count": 99,
   "id": "a0fe0879",
   "metadata": {},
   "outputs": [],
   "source": [
    "feature_importance = permutation_importance(estimator = normal_RF,\n",
    "                                           X = X_train,\n",
    "                                           y = y_train,\n",
    "                                           n_repeats = 5,\n",
    "                                           random_state = rs,\n",
    "                                           n_jobs = -1)"
   ]
  },
  {
   "cell_type": "code",
   "execution_count": 100,
   "id": "50f7b9cc",
   "metadata": {},
   "outputs": [
    {
     "data": {
      "text/plain": [
       "(9, 5)"
      ]
     },
     "execution_count": 100,
     "metadata": {},
     "output_type": "execute_result"
    }
   ],
   "source": [
    "feature_importance.importances.shape"
   ]
  },
  {
   "cell_type": "code",
   "execution_count": 101,
   "id": "12448899",
   "metadata": {},
   "outputs": [
    {
     "data": {
      "text/plain": [
       "array([[0.08597285, 0.0678733 , 0.0678733 , 0.07692308, 0.07239819],\n",
       "       [0.05429864, 0.04977376, 0.04977376, 0.0678733 , 0.04524887],\n",
       "       [0.13122172, 0.1040724 , 0.10859729, 0.12669683, 0.12669683],\n",
       "       [0.08597285, 0.09049774, 0.09502262, 0.09502262, 0.09502262],\n",
       "       [0.03167421, 0.04072398, 0.0361991 , 0.02714932, 0.02714932],\n",
       "       [0.15384615, 0.15384615, 0.10859729, 0.15384615, 0.15837104],\n",
       "       [0.08597285, 0.06334842, 0.05429864, 0.06334842, 0.06334842],\n",
       "       [0.07239819, 0.06334842, 0.07239819, 0.08597285, 0.1040724 ],\n",
       "       [0.05882353, 0.04524887, 0.0361991 , 0.04977376, 0.05882353]])"
      ]
     },
     "execution_count": 101,
     "metadata": {},
     "output_type": "execute_result"
    }
   ],
   "source": [
    "feature_importance.importances  "
   ]
  },
  {
   "cell_type": "code",
   "execution_count": 102,
   "id": "e8dc33d6",
   "metadata": {},
   "outputs": [
    {
     "data": {
      "text/plain": [
       "array([0.07420814, 0.05339367, 0.11945701, 0.09230769, 0.03257919,\n",
       "       0.14570136, 0.06606335, 0.07963801, 0.04977376])"
      ]
     },
     "execution_count": 102,
     "metadata": {},
     "output_type": "execute_result"
    }
   ],
   "source": [
    "sorted_mean = feature_importance.importances_mean\n",
    "sorted_mean"
   ]
  },
  {
   "cell_type": "code",
   "execution_count": 103,
   "id": "f0de3106",
   "metadata": {},
   "outputs": [],
   "source": [
    "sorted_idx = feature_importance.importances_mean.argsort()"
   ]
  },
  {
   "cell_type": "code",
   "execution_count": 104,
   "id": "e17c9b3d",
   "metadata": {},
   "outputs": [
    {
     "data": {
      "text/plain": [
       "array([4, 8, 1, 6, 0, 7, 3, 2, 5], dtype=int64)"
      ]
     },
     "execution_count": 104,
     "metadata": {},
     "output_type": "execute_result"
    }
   ],
   "source": [
    "sorted_idx"
   ]
  },
  {
   "cell_type": "code",
   "execution_count": 105,
   "id": "2f6493f3",
   "metadata": {},
   "outputs": [],
   "source": [
    "#Visualizing the importance\n",
    "def visualize_feature_importance(importance_array):\n",
    "    #sort the array based on mean value\n",
    "    sorted_idx = importance_array.importances_mean.argsort()\n",
    "    # Visualize the feature importances using boxplot\n",
    "    fig, ax = plt.subplots(figsize = (16,10))\n",
    "    #fig, ax = plt.subplots()\n",
    "    #fig.set_figwidth(16)\n",
    "    #fig.set_figheight(10)\n",
    "    fig.tight_layout()\n",
    "    ax.boxplot(importance_array.importances[sorted_idx].T,\n",
    "              vert=False,\n",
    "              labels = X_train.columns[sorted_idx])\n",
    "    ax.set_title(\"Permutation Importances (train set)\", fontsize = 15)\n",
    "    plt.show()\n",
    "    "
   ]
  },
  {
   "cell_type": "code",
   "execution_count": 106,
   "id": "2e21f57f",
   "metadata": {
    "scrolled": true
   },
   "outputs": [
    {
     "data": {
      "image/png": "[encoded data removed]",
      "text/plain": [
       "<Figure size 1600x1000 with 1 Axes>"
      ]
     },
     "metadata": {},
     "output_type": "display_data"
    }
   ],
   "source": [
    "visualize_feature_importance(feature_importance)"
   ]
  },
  {
   "cell_type": "markdown",
   "id": "6e60f6ca",
   "metadata": {},
   "source": [
    "# End of Project"
   ]
  },
  {
   "cell_type": "code",
   "execution_count": null,
   "id": "5c9d91e9",
   "metadata": {},
   "outputs": [],
   "source": []
  }
 ],
 "metadata": {
  "kernelspec": {
   "display_name": "Python 3 (ipykernel)",
   "language": "python",
   "name": "python3"
  },
  "language_info": {
   "codemirror_mode": {
    "name": "ipython",
    "version": 3
   },
   "file_extension": ".py",
   "mimetype": "text/x-python",
   "name": "python",
   "nbconvert_exporter": "python",
   "pygments_lexer": "ipython3",
   "version": "3.9.13"
  }
 },
 "nbformat": 4,
 "nbformat_minor": 5
}
